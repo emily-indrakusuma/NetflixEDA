{
  "cells": [
    {
      "cell_type": "markdown",
      "metadata": {
        "id": "wq_KSmbRbL2V"
      },
      "source": [
        "# **NETFLIX EDA**"
      ]
    },
    {
      "cell_type": "code",
      "execution_count": 4,
      "metadata": {
        "id": "adpz6_m4bJ71"
      },
      "outputs": [],
      "source": [
        "import numpy as np \n",
        "import pandas as pd \n",
        "import seaborn as sns\n",
        "import matplotlib.pyplot as plt"
      ]
    },
    {
      "cell_type": "code",
      "execution_count": 5,
      "metadata": {
        "id": "HUrxpChQk6rH"
      },
      "outputs": [],
      "source": [
        "data = pd.read_csv(\"netflixData.csv\")"
      ]
    },
    {
      "cell_type": "code",
      "execution_count": 6,
      "metadata": {
        "colab": {
          "base_uri": "https://localhost:8080/",
          "height": 652
        },
        "id": "XyeqxG71k6ur",
        "outputId": "326d0f9b-b913-4265-ce1f-60bd36556aa5"
      },
      "outputs": [
        {
          "data": {
            "text/html": [
              "<div>\n",
              "<style scoped>\n",
              "    .dataframe tbody tr th:only-of-type {\n",
              "        vertical-align: middle;\n",
              "    }\n",
              "\n",
              "    .dataframe tbody tr th {\n",
              "        vertical-align: top;\n",
              "    }\n",
              "\n",
              "    .dataframe thead th {\n",
              "        text-align: right;\n",
              "    }\n",
              "</style>\n",
              "<table border=\"1\" class=\"dataframe\">\n",
              "  <thead>\n",
              "    <tr style=\"text-align: right;\">\n",
              "      <th></th>\n",
              "      <th>Show Id</th>\n",
              "      <th>Title</th>\n",
              "      <th>Description</th>\n",
              "      <th>Director</th>\n",
              "      <th>Genres</th>\n",
              "      <th>Cast</th>\n",
              "      <th>Production Country</th>\n",
              "      <th>Release Date</th>\n",
              "      <th>Rating</th>\n",
              "      <th>Duration</th>\n",
              "      <th>Imdb Score</th>\n",
              "      <th>Content Type</th>\n",
              "      <th>Date Added</th>\n",
              "    </tr>\n",
              "  </thead>\n",
              "  <tbody>\n",
              "    <tr>\n",
              "      <th>0</th>\n",
              "      <td>cc1b6ed9-cf9e-4057-8303-34577fb54477</td>\n",
              "      <td>(Un)Well</td>\n",
              "      <td>This docuseries takes a deep dive into the luc...</td>\n",
              "      <td>NaN</td>\n",
              "      <td>Reality TV</td>\n",
              "      <td>NaN</td>\n",
              "      <td>United States</td>\n",
              "      <td>2020.0</td>\n",
              "      <td>TV-MA</td>\n",
              "      <td>1 Season</td>\n",
              "      <td>6.6/10</td>\n",
              "      <td>TV Show</td>\n",
              "      <td>NaN</td>\n",
              "    </tr>\n",
              "    <tr>\n",
              "      <th>1</th>\n",
              "      <td>e2ef4e91-fb25-42ab-b485-be8e3b23dedb</td>\n",
              "      <td>#Alive</td>\n",
              "      <td>As a grisly virus rampages a city, a lone man ...</td>\n",
              "      <td>Cho Il</td>\n",
              "      <td>Horror Movies, International Movies, Thrillers</td>\n",
              "      <td>Yoo Ah-in, Park Shin-hye</td>\n",
              "      <td>South Korea</td>\n",
              "      <td>2020.0</td>\n",
              "      <td>TV-MA</td>\n",
              "      <td>99 min</td>\n",
              "      <td>6.2/10</td>\n",
              "      <td>Movie</td>\n",
              "      <td>September 8, 2020</td>\n",
              "    </tr>\n",
              "    <tr>\n",
              "      <th>2</th>\n",
              "      <td>b01b73b7-81f6-47a7-86d8-acb63080d525</td>\n",
              "      <td>#AnneFrank - Parallel Stories</td>\n",
              "      <td>Through her diary, Anne Frank's story is retol...</td>\n",
              "      <td>Sabina Fedeli, Anna Migotto</td>\n",
              "      <td>Documentaries, International Movies</td>\n",
              "      <td>Helen Mirren, Gengher Gatti</td>\n",
              "      <td>Italy</td>\n",
              "      <td>2019.0</td>\n",
              "      <td>TV-14</td>\n",
              "      <td>95 min</td>\n",
              "      <td>6.4/10</td>\n",
              "      <td>Movie</td>\n",
              "      <td>July 1, 2020</td>\n",
              "    </tr>\n",
              "    <tr>\n",
              "      <th>3</th>\n",
              "      <td>b6611af0-f53c-4a08-9ffa-9716dc57eb9c</td>\n",
              "      <td>#blackAF</td>\n",
              "      <td>Kenya Barris and his family navigate relations...</td>\n",
              "      <td>NaN</td>\n",
              "      <td>TV Comedies</td>\n",
              "      <td>Kenya Barris, Rashida Jones, Iman Benson, Genn...</td>\n",
              "      <td>United States</td>\n",
              "      <td>2020.0</td>\n",
              "      <td>TV-MA</td>\n",
              "      <td>1 Season</td>\n",
              "      <td>6.6/10</td>\n",
              "      <td>TV Show</td>\n",
              "      <td>NaN</td>\n",
              "    </tr>\n",
              "    <tr>\n",
              "      <th>4</th>\n",
              "      <td>7f2d4170-bab8-4d75-adc2-197f7124c070</td>\n",
              "      <td>#cats_the_mewvie</td>\n",
              "      <td>This pawesome documentary explores how our fel...</td>\n",
              "      <td>Michael Margolis</td>\n",
              "      <td>Documentaries, International Movies</td>\n",
              "      <td>NaN</td>\n",
              "      <td>Canada</td>\n",
              "      <td>2020.0</td>\n",
              "      <td>TV-14</td>\n",
              "      <td>90 min</td>\n",
              "      <td>5.1/10</td>\n",
              "      <td>Movie</td>\n",
              "      <td>February 5, 2020</td>\n",
              "    </tr>\n",
              "  </tbody>\n",
              "</table>\n",
              "</div>"
            ],
            "text/plain": [
              "                                Show Id                          Title  \\\n",
              "0  cc1b6ed9-cf9e-4057-8303-34577fb54477                       (Un)Well   \n",
              "1  e2ef4e91-fb25-42ab-b485-be8e3b23dedb                         #Alive   \n",
              "2  b01b73b7-81f6-47a7-86d8-acb63080d525  #AnneFrank - Parallel Stories   \n",
              "3  b6611af0-f53c-4a08-9ffa-9716dc57eb9c                       #blackAF   \n",
              "4  7f2d4170-bab8-4d75-adc2-197f7124c070               #cats_the_mewvie   \n",
              "\n",
              "                                         Description  \\\n",
              "0  This docuseries takes a deep dive into the luc...   \n",
              "1  As a grisly virus rampages a city, a lone man ...   \n",
              "2  Through her diary, Anne Frank's story is retol...   \n",
              "3  Kenya Barris and his family navigate relations...   \n",
              "4  This pawesome documentary explores how our fel...   \n",
              "\n",
              "                      Director  \\\n",
              "0                          NaN   \n",
              "1                       Cho Il   \n",
              "2  Sabina Fedeli, Anna Migotto   \n",
              "3                          NaN   \n",
              "4             Michael Margolis   \n",
              "\n",
              "                                           Genres  \\\n",
              "0                                      Reality TV   \n",
              "1  Horror Movies, International Movies, Thrillers   \n",
              "2             Documentaries, International Movies   \n",
              "3                                     TV Comedies   \n",
              "4             Documentaries, International Movies   \n",
              "\n",
              "                                                Cast Production Country  \\\n",
              "0                                                NaN      United States   \n",
              "1                           Yoo Ah-in, Park Shin-hye        South Korea   \n",
              "2                        Helen Mirren, Gengher Gatti              Italy   \n",
              "3  Kenya Barris, Rashida Jones, Iman Benson, Genn...      United States   \n",
              "4                                                NaN             Canada   \n",
              "\n",
              "   Release Date Rating  Duration Imdb Score Content Type         Date Added  \n",
              "0        2020.0  TV-MA  1 Season     6.6/10      TV Show                NaN  \n",
              "1        2020.0  TV-MA    99 min     6.2/10        Movie  September 8, 2020  \n",
              "2        2019.0  TV-14    95 min     6.4/10        Movie       July 1, 2020  \n",
              "3        2020.0  TV-MA  1 Season     6.6/10      TV Show                NaN  \n",
              "4        2020.0  TV-14    90 min     5.1/10        Movie   February 5, 2020  "
            ]
          },
          "execution_count": 6,
          "metadata": {},
          "output_type": "execute_result"
        }
      ],
      "source": [
        "data.head()"
      ]
    },
    {
      "cell_type": "code",
      "execution_count": 7,
      "metadata": {
        "colab": {
          "base_uri": "https://localhost:8080/"
        },
        "id": "tzaaIamHbKWA",
        "outputId": "42912b23-754e-46a2-8b87-e0c748c7689e"
      },
      "outputs": [
        {
          "data": {
            "text/plain": [
              "(5967, 13)"
            ]
          },
          "execution_count": 7,
          "metadata": {},
          "output_type": "execute_result"
        }
      ],
      "source": [
        "#number of rows and columns\n",
        "data.shape"
      ]
    },
    {
      "cell_type": "code",
      "execution_count": 8,
      "metadata": {
        "colab": {
          "base_uri": "https://localhost:8080/"
        },
        "id": "cAgS9i7zbz8k",
        "outputId": "467af14d-ea04-4f7a-8f1e-05611f3d46c4"
      },
      "outputs": [
        {
          "data": {
            "text/plain": [
              "Show Id                  0\n",
              "Title                    0\n",
              "Description              0\n",
              "Director              2064\n",
              "Genres                   0\n",
              "Cast                   530\n",
              "Production Country     559\n",
              "Release Date             3\n",
              "Rating                   4\n",
              "Duration                 3\n",
              "Imdb Score             608\n",
              "Content Type             0\n",
              "Date Added            1335\n",
              "dtype: int64"
            ]
          },
          "execution_count": 8,
          "metadata": {},
          "output_type": "execute_result"
        }
      ],
      "source": [
        "#check null fields\n",
        "data.isnull().sum()"
      ]
    },
    {
      "cell_type": "code",
      "execution_count": 9,
      "metadata": {
        "colab": {
          "base_uri": "https://localhost:8080/",
          "height": 354
        },
        "id": "1Q0L9R3kcDkJ",
        "outputId": "fbba81c3-be07-4dc6-bfde-608e7b110139"
      },
      "outputs": [
        {
          "data": {
            "text/html": [
              "<div>\n",
              "<style scoped>\n",
              "    .dataframe tbody tr th:only-of-type {\n",
              "        vertical-align: middle;\n",
              "    }\n",
              "\n",
              "    .dataframe tbody tr th {\n",
              "        vertical-align: top;\n",
              "    }\n",
              "\n",
              "    .dataframe thead th {\n",
              "        text-align: right;\n",
              "    }\n",
              "</style>\n",
              "<table border=\"1\" class=\"dataframe\">\n",
              "  <thead>\n",
              "    <tr style=\"text-align: right;\">\n",
              "      <th></th>\n",
              "      <th>Title</th>\n",
              "      <th>Description</th>\n",
              "      <th>Content Type</th>\n",
              "      <th>Genres</th>\n",
              "      <th>Production Country</th>\n",
              "      <th>Imdb Score</th>\n",
              "    </tr>\n",
              "  </thead>\n",
              "  <tbody>\n",
              "    <tr>\n",
              "      <th>0</th>\n",
              "      <td>(Un)Well</td>\n",
              "      <td>This docuseries takes a deep dive into the luc...</td>\n",
              "      <td>TV Show</td>\n",
              "      <td>Reality TV</td>\n",
              "      <td>United States</td>\n",
              "      <td>6.6/10</td>\n",
              "    </tr>\n",
              "    <tr>\n",
              "      <th>1</th>\n",
              "      <td>#Alive</td>\n",
              "      <td>As a grisly virus rampages a city, a lone man ...</td>\n",
              "      <td>Movie</td>\n",
              "      <td>Horror Movies, International Movies, Thrillers</td>\n",
              "      <td>South Korea</td>\n",
              "      <td>6.2/10</td>\n",
              "    </tr>\n",
              "    <tr>\n",
              "      <th>2</th>\n",
              "      <td>#AnneFrank - Parallel Stories</td>\n",
              "      <td>Through her diary, Anne Frank's story is retol...</td>\n",
              "      <td>Movie</td>\n",
              "      <td>Documentaries, International Movies</td>\n",
              "      <td>Italy</td>\n",
              "      <td>6.4/10</td>\n",
              "    </tr>\n",
              "    <tr>\n",
              "      <th>3</th>\n",
              "      <td>#blackAF</td>\n",
              "      <td>Kenya Barris and his family navigate relations...</td>\n",
              "      <td>TV Show</td>\n",
              "      <td>TV Comedies</td>\n",
              "      <td>United States</td>\n",
              "      <td>6.6/10</td>\n",
              "    </tr>\n",
              "    <tr>\n",
              "      <th>4</th>\n",
              "      <td>#cats_the_mewvie</td>\n",
              "      <td>This pawesome documentary explores how our fel...</td>\n",
              "      <td>Movie</td>\n",
              "      <td>Documentaries, International Movies</td>\n",
              "      <td>Canada</td>\n",
              "      <td>5.1/10</td>\n",
              "    </tr>\n",
              "  </tbody>\n",
              "</table>\n",
              "</div>"
            ],
            "text/plain": [
              "                           Title  \\\n",
              "0                       (Un)Well   \n",
              "1                         #Alive   \n",
              "2  #AnneFrank - Parallel Stories   \n",
              "3                       #blackAF   \n",
              "4               #cats_the_mewvie   \n",
              "\n",
              "                                         Description Content Type  \\\n",
              "0  This docuseries takes a deep dive into the luc...      TV Show   \n",
              "1  As a grisly virus rampages a city, a lone man ...        Movie   \n",
              "2  Through her diary, Anne Frank's story is retol...        Movie   \n",
              "3  Kenya Barris and his family navigate relations...      TV Show   \n",
              "4  This pawesome documentary explores how our fel...        Movie   \n",
              "\n",
              "                                           Genres Production Country  \\\n",
              "0                                      Reality TV      United States   \n",
              "1  Horror Movies, International Movies, Thrillers        South Korea   \n",
              "2             Documentaries, International Movies              Italy   \n",
              "3                                     TV Comedies      United States   \n",
              "4             Documentaries, International Movies             Canada   \n",
              "\n",
              "  Imdb Score  \n",
              "0     6.6/10  \n",
              "1     6.2/10  \n",
              "2     6.4/10  \n",
              "3     6.6/10  \n",
              "4     5.1/10  "
            ]
          },
          "execution_count": 9,
          "metadata": {},
          "output_type": "execute_result"
        }
      ],
      "source": [
        "data = data[[\"Title\", \"Description\", \"Content Type\", \"Genres\",\"Production Country\",\"Imdb Score\",]]\n",
        "data.head()"
      ]
    },
    {
      "cell_type": "code",
      "execution_count": 10,
      "metadata": {
        "id": "Hrw27OPucKff"
      },
      "outputs": [],
      "source": [
        "#drop column with null value\n",
        "data = data.dropna()"
      ]
    },
    {
      "cell_type": "code",
      "execution_count": 11,
      "metadata": {
        "colab": {
          "base_uri": "https://localhost:8080/"
        },
        "id": "BfGc6yKKcZF2",
        "outputId": "9258517e-0f4c-468c-940e-00847077f269"
      },
      "outputs": [
        {
          "name": "stderr",
          "output_type": "stream",
          "text": [
            "[nltk_data] Downloading package stopwords to C:\\Users\\Emily-\n",
            "[nltk_data]     Indrakusuma\\AppData\\Roaming\\nltk_data...\n",
            "[nltk_data]   Unzipping corpora\\stopwords.zip.\n"
          ]
        }
      ],
      "source": [
        "import nltk\n",
        "import re\n",
        "nltk.download('stopwords')\n",
        "stemmer = nltk.SnowballStemmer(\"english\")\n",
        "from nltk.corpus import stopwords\n",
        "import string\n",
        "stopword=set(stopwords.words('english'))\n",
        "\n",
        "def clean(text):\n",
        "    text = str(text).lower()\n",
        "    text = re.sub('\\[.*?\\]', '', text)\n",
        "    text = re.sub('https?://\\S+|www\\.\\S+', '', text)\n",
        "    text = re.sub('<.*?>+', '', text)\n",
        "    text = re.sub('[%s]' % re.escape(string.punctuation), '', text)\n",
        "    text = re.sub('\\n', '', text)\n",
        "    text = re.sub('\\w*\\d\\w*', '', text)\n",
        "    text = [word for word in text.split(' ') if word not in stopword]\n",
        "    text=\" \".join(text)\n",
        "    text = [stemmer.stem(word) for word in text.split(' ')]\n",
        "    text=\" \".join(text)\n",
        "    return text\n",
        "data[\"Title\"] = data[\"Title\"].apply(clean)"
      ]
    },
    {
      "cell_type": "code",
      "execution_count": 12,
      "metadata": {
        "colab": {
          "base_uri": "https://localhost:8080/"
        },
        "id": "jdo6BTqrdgev",
        "outputId": "fdbb055f-4ef6-4077-9f64-cd557f2423d4"
      },
      "outputs": [
        {
          "data": {
            "text/plain": [
              "0                           unwel\n",
              "1                            aliv\n",
              "2       annefrank  parallel stori\n",
              "3                         blackaf\n",
              "4                    catsthemewvi\n",
              "                  ...            \n",
              "5958                         zozo\n",
              "5960                zumbo dessert\n",
              "5961    zz top littl ol band texa\n",
              "5962                    الف مبروك\n",
              "5965                      반드시 잡는다\n",
              "Name: Title, Length: 5249, dtype: object"
            ]
          },
          "execution_count": 12,
          "metadata": {},
          "output_type": "execute_result"
        }
      ],
      "source": [
        "data[\"Title\"]"
      ]
    },
    {
      "cell_type": "code",
      "execution_count": 13,
      "metadata": {
        "id": "gA_OmcRdlzSr"
      },
      "outputs": [],
      "source": [
        "data[\"Imdb Score\"] = data[\"Imdb Score\"].str.replace('/10', '')"
      ]
    },
    {
      "cell_type": "code",
      "execution_count": 14,
      "metadata": {
        "colab": {
          "base_uri": "https://localhost:8080/"
        },
        "id": "xrO3HpLkl8UO",
        "outputId": "8612402e-63db-45a7-9c4b-0e5b5a37600e"
      },
      "outputs": [
        {
          "data": {
            "text/plain": [
              "0       6.6\n",
              "1       6.2\n",
              "2       6.4\n",
              "3       6.6\n",
              "4       5.1\n",
              "       ... \n",
              "5958    6.7\n",
              "5960    7.1\n",
              "5961    7.4\n",
              "5962    7.4\n",
              "5965    6.5\n",
              "Name: Imdb Score, Length: 5249, dtype: object"
            ]
          },
          "execution_count": 14,
          "metadata": {},
          "output_type": "execute_result"
        }
      ],
      "source": [
        "data[\"Imdb Score\"]"
      ]
    },
    {
      "cell_type": "code",
      "execution_count": 15,
      "metadata": {
        "colab": {
          "base_uri": "https://localhost:8080/"
        },
        "id": "2TUQ7wndd_KN",
        "outputId": "c538503e-2517-46b7-e7d6-e2be64f3fd2d"
      },
      "outputs": [],
      "source": [
        "data[\"Imdb Score\"] = data[\"Imdb Score\"].apply(pd.to_numeric)"
      ]
    },
    {
      "cell_type": "code",
      "execution_count": 16,
      "metadata": {
        "id": "xUXjPyhofWOs"
      },
      "outputs": [],
      "source": [
        "sample = data.sample(n=150)"
      ]
    },
    {
      "cell_type": "code",
      "execution_count": 17,
      "metadata": {
        "colab": {
          "base_uri": "https://localhost:8080/",
          "height": 378
        },
        "id": "54ti-GPzmTU8",
        "outputId": "ae31d40b-7fb1-40a2-c9a7-6ee97f703305"
      },
      "outputs": [
        {
          "data": {
            "text/plain": [
              "Text(0, 0.5, 'number of production')"
            ]
          },
          "execution_count": 17,
          "metadata": {},
          "output_type": "execute_result"
        },
        {
          "data": {
            "image/png": "[encoded data removed]",
            "text/plain": [
              "<Figure size 1440x288 with 1 Axes>"
            ]
          },
          "metadata": {
            "needs_background": "light"
          },
          "output_type": "display_data"
        }
      ],
      "source": [
        "fig = plt.figure(figsize=(20, 4))\n",
        "ax = plt.axes()\n",
        "plt.title('Distribution of Production Country')\n",
        "sns.histplot(sample['Production Country'], kde=True)\n",
        "for tick in ax.get_xticklabels():\n",
        "    tick.set_rotation(45)\n",
        "plt.xlabel('country')\n",
        "plt.ylabel('number of production')"
      ]
    },
    {
      "cell_type": "code",
      "execution_count": 18,
      "metadata": {
        "colab": {
          "base_uri": "https://localhost:8080/",
          "height": 404
        },
        "id": "0DEpogo-mXSp",
        "outputId": "b5d375f9-112f-4e38-cb01-c7275d679ded"
      },
      "outputs": [
        {
          "data": {
            "text/plain": [
              "{'whiskers': [<matplotlib.lines.Line2D at 0x1d133eeb820>,\n",
              "  <matplotlib.lines.Line2D at 0x1d133eebaf0>],\n",
              " 'caps': [<matplotlib.lines.Line2D at 0x1d133eebdc0>,\n",
              "  <matplotlib.lines.Line2D at 0x1d133efc0d0>],\n",
              " 'boxes': [<matplotlib.lines.Line2D at 0x1d133eeb520>],\n",
              " 'medians': [<matplotlib.lines.Line2D at 0x1d133efc3a0>],\n",
              " 'fliers': [<matplotlib.lines.Line2D at 0x1d133efc940>],\n",
              " 'means': [<matplotlib.lines.Line2D at 0x1d133efc670>]}"
            ]
          },
          "execution_count": 18,
          "metadata": {},
          "output_type": "execute_result"
        },
        {
          "data": {
            "image/png": "[encoded data removed]",
            "text/plain": [
              "<Figure size 432x288 with 1 Axes>"
            ]
          },
          "metadata": {
            "needs_background": "light"
          },
          "output_type": "display_data"
        }
      ],
      "source": [
        "plt.boxplot(data['Imdb Score'], 0,'o',showbox=True,\n",
        "            showfliers=True, showcaps=True, showmeans=True)"
      ]
    },
    {
      "cell_type": "code",
      "execution_count": 19,
      "metadata": {
        "colab": {
          "base_uri": "https://localhost:8080/",
          "height": 277
        },
        "id": "EtZ_jZUumg3Z",
        "outputId": "aa0f8fc6-abed-42c5-d2ad-3e82db89b7de"
      },
      "outputs": [
        {
          "data": {
            "text/plain": [
              "Text(3, 7, 'Skewness coeff. is:-0.627501671857504')"
            ]
          },
          "execution_count": 19,
          "metadata": {},
          "output_type": "execute_result"
        },
        {
          "data": {
            "image/png": "[encoded data removed]",
            "text/plain": [
              "<Figure size 1440x288 with 1 Axes>"
            ]
          },
          "metadata": {
            "needs_background": "light"
          },
          "output_type": "display_data"
        }
      ],
      "source": [
        "fig = plt.figure(figsize=(20, 4))\n",
        "ax = plt.axes()\n",
        "plt.title('Imdb Score')\n",
        "sns.histplot(sample['Imdb Score'], kde=True)\n",
        "plt.xlabel('Imdb Score')\n",
        "plt.ylabel('number')\n",
        "plt.text(3,7, 'Skewness coeff. is:' + str(data['Imdb Score'].skew()))"
      ]
    },
    {
      "cell_type": "code",
      "execution_count": 20,
      "metadata": {
        "colab": {
          "base_uri": "https://localhost:8080/",
          "height": 351
        },
        "id": "tuWWkj4wnTcT",
        "outputId": "bcd960fe-b1c7-42a7-824b-3ba2ae73cd92"
      },
      "outputs": [
        {
          "data": {
            "text/plain": [
              "<AxesSubplot:xlabel='Content Type', ylabel='count'>"
            ]
          },
          "execution_count": 20,
          "metadata": {},
          "output_type": "execute_result"
        },
        {
          "data": {
            "image/png": "[encoded data removed]",
            "text/plain": [
              "<Figure size 360x360 with 1 Axes>"
            ]
          },
          "metadata": {
            "needs_background": "light"
          },
          "output_type": "display_data"
        }
      ],
      "source": [
        "#import warning\n",
        "\n",
        "import warnings\n",
        "warnings.simplefilter('ignore')\n",
        "fig = plt.figure(figsize=(5, 5))\n",
        "ax=plt.axes()\n",
        "sns.countplot(sample['Content Type'])"
      ]
    },
    {
      "cell_type": "code",
      "execution_count": 21,
      "metadata": {
        "colab": {
          "base_uri": "https://localhost:8080/",
          "height": 247
        },
        "id": "VOcY9os5n6yF",
        "outputId": "321e49c9-7bff-47cc-c9a8-e71028dc7a0b"
      },
      "outputs": [
        {
          "data": {
            "text/html": [
              "<style type=\"text/css\">\n",
              "#T_8e939_row0_col0, #T_8e939_row0_col1, #T_8e939_row0_col2, #T_8e939_row0_col3, #T_8e939_row0_col5, #T_8e939_row0_col6, #T_8e939_row0_col7, #T_8e939_row0_col8, #T_8e939_row0_col9, #T_8e939_row0_col10, #T_8e939_row0_col11, #T_8e939_row0_col15, #T_8e939_row0_col16, #T_8e939_row0_col20, #T_8e939_row0_col24, #T_8e939_row0_col29, #T_8e939_row0_col33, #T_8e939_row0_col41, #T_8e939_row1_col25, #T_8e939_row1_col27, #T_8e939_row1_col35, #T_8e939_row1_col42, #T_8e939_row1_col44, #T_8e939_row1_col45, #T_8e939_row2_col0, #T_8e939_row2_col1, #T_8e939_row2_col2, #T_8e939_row2_col3, #T_8e939_row2_col4, #T_8e939_row2_col5, #T_8e939_row2_col6, #T_8e939_row2_col7, #T_8e939_row2_col8, #T_8e939_row2_col9, #T_8e939_row2_col10, #T_8e939_row2_col11, #T_8e939_row2_col12, #T_8e939_row2_col13, #T_8e939_row2_col14, #T_8e939_row2_col15, #T_8e939_row2_col16, #T_8e939_row2_col17, #T_8e939_row2_col18, #T_8e939_row2_col19, #T_8e939_row2_col20, #T_8e939_row2_col21, #T_8e939_row2_col22, #T_8e939_row2_col23, #T_8e939_row2_col24, #T_8e939_row2_col25, #T_8e939_row2_col26, #T_8e939_row2_col27, #T_8e939_row2_col28, #T_8e939_row2_col29, #T_8e939_row2_col30, #T_8e939_row2_col31, #T_8e939_row2_col32, #T_8e939_row2_col33, #T_8e939_row2_col34, #T_8e939_row2_col35, #T_8e939_row2_col36, #T_8e939_row2_col37, #T_8e939_row2_col38, #T_8e939_row2_col39, #T_8e939_row2_col40, #T_8e939_row2_col41, #T_8e939_row2_col42, #T_8e939_row2_col43, #T_8e939_row2_col44, #T_8e939_row2_col45, #T_8e939_row2_col46 {\n",
              "  background-color: #004529;\n",
              "  color: #f1f1f1;\n",
              "}\n",
              "#T_8e939_row0_col4, #T_8e939_row0_col13, #T_8e939_row0_col28, #T_8e939_row1_col19, #T_8e939_row1_col31, #T_8e939_row1_col32 {\n",
              "  background-color: #77c679;\n",
              "  color: #000000;\n",
              "}\n",
              "#T_8e939_row0_col12, #T_8e939_row0_col19, #T_8e939_row0_col25, #T_8e939_row0_col26, #T_8e939_row0_col27, #T_8e939_row0_col30, #T_8e939_row0_col31, #T_8e939_row0_col32, #T_8e939_row0_col35, #T_8e939_row0_col36, #T_8e939_row0_col37, #T_8e939_row0_col38, #T_8e939_row0_col40, #T_8e939_row0_col42, #T_8e939_row0_col43, #T_8e939_row0_col44, #T_8e939_row0_col45, #T_8e939_row1_col0, #T_8e939_row1_col1, #T_8e939_row1_col2, #T_8e939_row1_col3, #T_8e939_row1_col4, #T_8e939_row1_col5, #T_8e939_row1_col6, #T_8e939_row1_col7, #T_8e939_row1_col8, #T_8e939_row1_col9, #T_8e939_row1_col10, #T_8e939_row1_col11, #T_8e939_row1_col12, #T_8e939_row1_col13, #T_8e939_row1_col14, #T_8e939_row1_col15, #T_8e939_row1_col16, #T_8e939_row1_col17, #T_8e939_row1_col18, #T_8e939_row1_col20, #T_8e939_row1_col21, #T_8e939_row1_col22, #T_8e939_row1_col23, #T_8e939_row1_col24, #T_8e939_row1_col26, #T_8e939_row1_col28, #T_8e939_row1_col29, #T_8e939_row1_col30, #T_8e939_row1_col33, #T_8e939_row1_col34, #T_8e939_row1_col37, #T_8e939_row1_col39, #T_8e939_row1_col41, #T_8e939_row1_col43, #T_8e939_row1_col46 {\n",
              "  background-color: #ffffe5;\n",
              "  color: #000000;\n",
              "}\n",
              "#T_8e939_row0_col14, #T_8e939_row0_col23, #T_8e939_row0_col34, #T_8e939_row1_col36 {\n",
              "  background-color: #379e54;\n",
              "  color: #f1f1f1;\n",
              "}\n",
              "#T_8e939_row0_col17 {\n",
              "  background-color: #d9f0a3;\n",
              "  color: #000000;\n",
              "}\n",
              "#T_8e939_row0_col18 {\n",
              "  background-color: #15793e;\n",
              "  color: #f1f1f1;\n",
              "}\n",
              "#T_8e939_row0_col21 {\n",
              "  background-color: #e5f5ac;\n",
              "  color: #000000;\n",
              "}\n",
              "#T_8e939_row0_col22, #T_8e939_row0_col39, #T_8e939_row1_col40 {\n",
              "  background-color: #bce395;\n",
              "  color: #000000;\n",
              "}\n",
              "#T_8e939_row0_col46 {\n",
              "  background-color: #afde8f;\n",
              "  color: #000000;\n",
              "}\n",
              "#T_8e939_row1_col38 {\n",
              "  background-color: #4cb063;\n",
              "  color: #f1f1f1;\n",
              "}\n",
              "</style>\n",
              "<table id=\"T_8e939\">\n",
              "  <thead>\n",
              "    <tr>\n",
              "      <th class=\"index_name level0\" >Imdb Score</th>\n",
              "      <th id=\"T_8e939_level0_col0\" class=\"col_heading level0 col0\" >2.100000</th>\n",
              "      <th id=\"T_8e939_level0_col1\" class=\"col_heading level0 col1\" >3.600000</th>\n",
              "      <th id=\"T_8e939_level0_col2\" class=\"col_heading level0 col2\" >4.000000</th>\n",
              "      <th id=\"T_8e939_level0_col3\" class=\"col_heading level0 col3\" >4.300000</th>\n",
              "      <th id=\"T_8e939_level0_col4\" class=\"col_heading level0 col4\" >4.500000</th>\n",
              "      <th id=\"T_8e939_level0_col5\" class=\"col_heading level0 col5\" >4.600000</th>\n",
              "      <th id=\"T_8e939_level0_col6\" class=\"col_heading level0 col6\" >4.700000</th>\n",
              "      <th id=\"T_8e939_level0_col7\" class=\"col_heading level0 col7\" >4.900000</th>\n",
              "      <th id=\"T_8e939_level0_col8\" class=\"col_heading level0 col8\" >5.000000</th>\n",
              "      <th id=\"T_8e939_level0_col9\" class=\"col_heading level0 col9\" >5.100000</th>\n",
              "      <th id=\"T_8e939_level0_col10\" class=\"col_heading level0 col10\" >5.200000</th>\n",
              "      <th id=\"T_8e939_level0_col11\" class=\"col_heading level0 col11\" >5.300000</th>\n",
              "      <th id=\"T_8e939_level0_col12\" class=\"col_heading level0 col12\" >5.400000</th>\n",
              "      <th id=\"T_8e939_level0_col13\" class=\"col_heading level0 col13\" >5.500000</th>\n",
              "      <th id=\"T_8e939_level0_col14\" class=\"col_heading level0 col14\" >5.600000</th>\n",
              "      <th id=\"T_8e939_level0_col15\" class=\"col_heading level0 col15\" >5.700000</th>\n",
              "      <th id=\"T_8e939_level0_col16\" class=\"col_heading level0 col16\" >5.800000</th>\n",
              "      <th id=\"T_8e939_level0_col17\" class=\"col_heading level0 col17\" >5.900000</th>\n",
              "      <th id=\"T_8e939_level0_col18\" class=\"col_heading level0 col18\" >6.000000</th>\n",
              "      <th id=\"T_8e939_level0_col19\" class=\"col_heading level0 col19\" >6.100000</th>\n",
              "      <th id=\"T_8e939_level0_col20\" class=\"col_heading level0 col20\" >6.200000</th>\n",
              "      <th id=\"T_8e939_level0_col21\" class=\"col_heading level0 col21\" >6.300000</th>\n",
              "      <th id=\"T_8e939_level0_col22\" class=\"col_heading level0 col22\" >6.400000</th>\n",
              "      <th id=\"T_8e939_level0_col23\" class=\"col_heading level0 col23\" >6.500000</th>\n",
              "      <th id=\"T_8e939_level0_col24\" class=\"col_heading level0 col24\" >6.600000</th>\n",
              "      <th id=\"T_8e939_level0_col25\" class=\"col_heading level0 col25\" >6.700000</th>\n",
              "      <th id=\"T_8e939_level0_col26\" class=\"col_heading level0 col26\" >6.800000</th>\n",
              "      <th id=\"T_8e939_level0_col27\" class=\"col_heading level0 col27\" >6.900000</th>\n",
              "      <th id=\"T_8e939_level0_col28\" class=\"col_heading level0 col28\" >7.000000</th>\n",
              "      <th id=\"T_8e939_level0_col29\" class=\"col_heading level0 col29\" >7.100000</th>\n",
              "      <th id=\"T_8e939_level0_col30\" class=\"col_heading level0 col30\" >7.200000</th>\n",
              "      <th id=\"T_8e939_level0_col31\" class=\"col_heading level0 col31\" >7.300000</th>\n",
              "      <th id=\"T_8e939_level0_col32\" class=\"col_heading level0 col32\" >7.400000</th>\n",
              "      <th id=\"T_8e939_level0_col33\" class=\"col_heading level0 col33\" >7.500000</th>\n",
              "      <th id=\"T_8e939_level0_col34\" class=\"col_heading level0 col34\" >7.600000</th>\n",
              "      <th id=\"T_8e939_level0_col35\" class=\"col_heading level0 col35\" >7.700000</th>\n",
              "      <th id=\"T_8e939_level0_col36\" class=\"col_heading level0 col36\" >7.800000</th>\n",
              "      <th id=\"T_8e939_level0_col37\" class=\"col_heading level0 col37\" >7.900000</th>\n",
              "      <th id=\"T_8e939_level0_col38\" class=\"col_heading level0 col38\" >8.000000</th>\n",
              "      <th id=\"T_8e939_level0_col39\" class=\"col_heading level0 col39\" >8.100000</th>\n",
              "      <th id=\"T_8e939_level0_col40\" class=\"col_heading level0 col40\" >8.200000</th>\n",
              "      <th id=\"T_8e939_level0_col41\" class=\"col_heading level0 col41\" >8.300000</th>\n",
              "      <th id=\"T_8e939_level0_col42\" class=\"col_heading level0 col42\" >8.400000</th>\n",
              "      <th id=\"T_8e939_level0_col43\" class=\"col_heading level0 col43\" >8.500000</th>\n",
              "      <th id=\"T_8e939_level0_col44\" class=\"col_heading level0 col44\" >8.600000</th>\n",
              "      <th id=\"T_8e939_level0_col45\" class=\"col_heading level0 col45\" >8.900000</th>\n",
              "      <th id=\"T_8e939_level0_col46\" class=\"col_heading level0 col46\" >All</th>\n",
              "    </tr>\n",
              "    <tr>\n",
              "      <th class=\"index_name level0\" >Content Type</th>\n",
              "      <th class=\"blank col0\" >&nbsp;</th>\n",
              "      <th class=\"blank col1\" >&nbsp;</th>\n",
              "      <th class=\"blank col2\" >&nbsp;</th>\n",
              "      <th class=\"blank col3\" >&nbsp;</th>\n",
              "      <th class=\"blank col4\" >&nbsp;</th>\n",
              "      <th class=\"blank col5\" >&nbsp;</th>\n",
              "      <th class=\"blank col6\" >&nbsp;</th>\n",
              "      <th class=\"blank col7\" >&nbsp;</th>\n",
              "      <th class=\"blank col8\" >&nbsp;</th>\n",
              "      <th class=\"blank col9\" >&nbsp;</th>\n",
              "      <th class=\"blank col10\" >&nbsp;</th>\n",
              "      <th class=\"blank col11\" >&nbsp;</th>\n",
              "      <th class=\"blank col12\" >&nbsp;</th>\n",
              "      <th class=\"blank col13\" >&nbsp;</th>\n",
              "      <th class=\"blank col14\" >&nbsp;</th>\n",
              "      <th class=\"blank col15\" >&nbsp;</th>\n",
              "      <th class=\"blank col16\" >&nbsp;</th>\n",
              "      <th class=\"blank col17\" >&nbsp;</th>\n",
              "      <th class=\"blank col18\" >&nbsp;</th>\n",
              "      <th class=\"blank col19\" >&nbsp;</th>\n",
              "      <th class=\"blank col20\" >&nbsp;</th>\n",
              "      <th class=\"blank col21\" >&nbsp;</th>\n",
              "      <th class=\"blank col22\" >&nbsp;</th>\n",
              "      <th class=\"blank col23\" >&nbsp;</th>\n",
              "      <th class=\"blank col24\" >&nbsp;</th>\n",
              "      <th class=\"blank col25\" >&nbsp;</th>\n",
              "      <th class=\"blank col26\" >&nbsp;</th>\n",
              "      <th class=\"blank col27\" >&nbsp;</th>\n",
              "      <th class=\"blank col28\" >&nbsp;</th>\n",
              "      <th class=\"blank col29\" >&nbsp;</th>\n",
              "      <th class=\"blank col30\" >&nbsp;</th>\n",
              "      <th class=\"blank col31\" >&nbsp;</th>\n",
              "      <th class=\"blank col32\" >&nbsp;</th>\n",
              "      <th class=\"blank col33\" >&nbsp;</th>\n",
              "      <th class=\"blank col34\" >&nbsp;</th>\n",
              "      <th class=\"blank col35\" >&nbsp;</th>\n",
              "      <th class=\"blank col36\" >&nbsp;</th>\n",
              "      <th class=\"blank col37\" >&nbsp;</th>\n",
              "      <th class=\"blank col38\" >&nbsp;</th>\n",
              "      <th class=\"blank col39\" >&nbsp;</th>\n",
              "      <th class=\"blank col40\" >&nbsp;</th>\n",
              "      <th class=\"blank col41\" >&nbsp;</th>\n",
              "      <th class=\"blank col42\" >&nbsp;</th>\n",
              "      <th class=\"blank col43\" >&nbsp;</th>\n",
              "      <th class=\"blank col44\" >&nbsp;</th>\n",
              "      <th class=\"blank col45\" >&nbsp;</th>\n",
              "      <th class=\"blank col46\" >&nbsp;</th>\n",
              "    </tr>\n",
              "  </thead>\n",
              "  <tbody>\n",
              "    <tr>\n",
              "      <th id=\"T_8e939_level0_row0\" class=\"row_heading level0 row0\" >Movie</th>\n",
              "      <td id=\"T_8e939_row0_col0\" class=\"data row0 col0\" >1</td>\n",
              "      <td id=\"T_8e939_row0_col1\" class=\"data row0 col1\" >1</td>\n",
              "      <td id=\"T_8e939_row0_col2\" class=\"data row0 col2\" >1</td>\n",
              "      <td id=\"T_8e939_row0_col3\" class=\"data row0 col3\" >1</td>\n",
              "      <td id=\"T_8e939_row0_col4\" class=\"data row0 col4\" >2</td>\n",
              "      <td id=\"T_8e939_row0_col5\" class=\"data row0 col5\" >1</td>\n",
              "      <td id=\"T_8e939_row0_col6\" class=\"data row0 col6\" >1</td>\n",
              "      <td id=\"T_8e939_row0_col7\" class=\"data row0 col7\" >2</td>\n",
              "      <td id=\"T_8e939_row0_col8\" class=\"data row0 col8\" >1</td>\n",
              "      <td id=\"T_8e939_row0_col9\" class=\"data row0 col9\" >3</td>\n",
              "      <td id=\"T_8e939_row0_col10\" class=\"data row0 col10\" >1</td>\n",
              "      <td id=\"T_8e939_row0_col11\" class=\"data row0 col11\" >2</td>\n",
              "      <td id=\"T_8e939_row0_col12\" class=\"data row0 col12\" >1</td>\n",
              "      <td id=\"T_8e939_row0_col13\" class=\"data row0 col13\" >2</td>\n",
              "      <td id=\"T_8e939_row0_col14\" class=\"data row0 col14\" >3</td>\n",
              "      <td id=\"T_8e939_row0_col15\" class=\"data row0 col15\" >1</td>\n",
              "      <td id=\"T_8e939_row0_col16\" class=\"data row0 col16\" >5</td>\n",
              "      <td id=\"T_8e939_row0_col17\" class=\"data row0 col17\" >4</td>\n",
              "      <td id=\"T_8e939_row0_col18\" class=\"data row0 col18\" >5</td>\n",
              "      <td id=\"T_8e939_row0_col19\" class=\"data row0 col19\" >1</td>\n",
              "      <td id=\"T_8e939_row0_col20\" class=\"data row0 col20\" >3</td>\n",
              "      <td id=\"T_8e939_row0_col21\" class=\"data row0 col21\" >5</td>\n",
              "      <td id=\"T_8e939_row0_col22\" class=\"data row0 col22\" >3</td>\n",
              "      <td id=\"T_8e939_row0_col23\" class=\"data row0 col23\" >6</td>\n",
              "      <td id=\"T_8e939_row0_col24\" class=\"data row0 col24\" >1</td>\n",
              "      <td id=\"T_8e939_row0_col25\" class=\"data row0 col25\" >0</td>\n",
              "      <td id=\"T_8e939_row0_col26\" class=\"data row0 col26\" >2</td>\n",
              "      <td id=\"T_8e939_row0_col27\" class=\"data row0 col27\" >0</td>\n",
              "      <td id=\"T_8e939_row0_col28\" class=\"data row0 col28\" >4</td>\n",
              "      <td id=\"T_8e939_row0_col29\" class=\"data row0 col29\" >5</td>\n",
              "      <td id=\"T_8e939_row0_col30\" class=\"data row0 col30\" >5</td>\n",
              "      <td id=\"T_8e939_row0_col31\" class=\"data row0 col31\" >1</td>\n",
              "      <td id=\"T_8e939_row0_col32\" class=\"data row0 col32\" >1</td>\n",
              "      <td id=\"T_8e939_row0_col33\" class=\"data row0 col33\" >3</td>\n",
              "      <td id=\"T_8e939_row0_col34\" class=\"data row0 col34\" >3</td>\n",
              "      <td id=\"T_8e939_row0_col35\" class=\"data row0 col35\" >0</td>\n",
              "      <td id=\"T_8e939_row0_col36\" class=\"data row0 col36\" >1</td>\n",
              "      <td id=\"T_8e939_row0_col37\" class=\"data row0 col37\" >1</td>\n",
              "      <td id=\"T_8e939_row0_col38\" class=\"data row0 col38\" >2</td>\n",
              "      <td id=\"T_8e939_row0_col39\" class=\"data row0 col39\" >3</td>\n",
              "      <td id=\"T_8e939_row0_col40\" class=\"data row0 col40\" >2</td>\n",
              "      <td id=\"T_8e939_row0_col41\" class=\"data row0 col41\" >1</td>\n",
              "      <td id=\"T_8e939_row0_col42\" class=\"data row0 col42\" >0</td>\n",
              "      <td id=\"T_8e939_row0_col43\" class=\"data row0 col43\" >1</td>\n",
              "      <td id=\"T_8e939_row0_col44\" class=\"data row0 col44\" >0</td>\n",
              "      <td id=\"T_8e939_row0_col45\" class=\"data row0 col45\" >0</td>\n",
              "      <td id=\"T_8e939_row0_col46\" class=\"data row0 col46\" >92</td>\n",
              "    </tr>\n",
              "    <tr>\n",
              "      <th id=\"T_8e939_level0_row1\" class=\"row_heading level0 row1\" >TV Show</th>\n",
              "      <td id=\"T_8e939_row1_col0\" class=\"data row1 col0\" >0</td>\n",
              "      <td id=\"T_8e939_row1_col1\" class=\"data row1 col1\" >0</td>\n",
              "      <td id=\"T_8e939_row1_col2\" class=\"data row1 col2\" >0</td>\n",
              "      <td id=\"T_8e939_row1_col3\" class=\"data row1 col3\" >0</td>\n",
              "      <td id=\"T_8e939_row1_col4\" class=\"data row1 col4\" >1</td>\n",
              "      <td id=\"T_8e939_row1_col5\" class=\"data row1 col5\" >0</td>\n",
              "      <td id=\"T_8e939_row1_col6\" class=\"data row1 col6\" >0</td>\n",
              "      <td id=\"T_8e939_row1_col7\" class=\"data row1 col7\" >0</td>\n",
              "      <td id=\"T_8e939_row1_col8\" class=\"data row1 col8\" >0</td>\n",
              "      <td id=\"T_8e939_row1_col9\" class=\"data row1 col9\" >0</td>\n",
              "      <td id=\"T_8e939_row1_col10\" class=\"data row1 col10\" >0</td>\n",
              "      <td id=\"T_8e939_row1_col11\" class=\"data row1 col11\" >0</td>\n",
              "      <td id=\"T_8e939_row1_col12\" class=\"data row1 col12\" >1</td>\n",
              "      <td id=\"T_8e939_row1_col13\" class=\"data row1 col13\" >1</td>\n",
              "      <td id=\"T_8e939_row1_col14\" class=\"data row1 col14\" >1</td>\n",
              "      <td id=\"T_8e939_row1_col15\" class=\"data row1 col15\" >0</td>\n",
              "      <td id=\"T_8e939_row1_col16\" class=\"data row1 col16\" >0</td>\n",
              "      <td id=\"T_8e939_row1_col17\" class=\"data row1 col17\" >3</td>\n",
              "      <td id=\"T_8e939_row1_col18\" class=\"data row1 col18\" >1</td>\n",
              "      <td id=\"T_8e939_row1_col19\" class=\"data row1 col19\" >2</td>\n",
              "      <td id=\"T_8e939_row1_col20\" class=\"data row1 col20\" >0</td>\n",
              "      <td id=\"T_8e939_row1_col21\" class=\"data row1 col21\" >4</td>\n",
              "      <td id=\"T_8e939_row1_col22\" class=\"data row1 col22\" >2</td>\n",
              "      <td id=\"T_8e939_row1_col23\" class=\"data row1 col23\" >2</td>\n",
              "      <td id=\"T_8e939_row1_col24\" class=\"data row1 col24\" >0</td>\n",
              "      <td id=\"T_8e939_row1_col25\" class=\"data row1 col25\" >3</td>\n",
              "      <td id=\"T_8e939_row1_col26\" class=\"data row1 col26\" >2</td>\n",
              "      <td id=\"T_8e939_row1_col27\" class=\"data row1 col27\" >2</td>\n",
              "      <td id=\"T_8e939_row1_col28\" class=\"data row1 col28\" >2</td>\n",
              "      <td id=\"T_8e939_row1_col29\" class=\"data row1 col29\" >0</td>\n",
              "      <td id=\"T_8e939_row1_col30\" class=\"data row1 col30\" >5</td>\n",
              "      <td id=\"T_8e939_row1_col31\" class=\"data row1 col31\" >2</td>\n",
              "      <td id=\"T_8e939_row1_col32\" class=\"data row1 col32\" >2</td>\n",
              "      <td id=\"T_8e939_row1_col33\" class=\"data row1 col33\" >0</td>\n",
              "      <td id=\"T_8e939_row1_col34\" class=\"data row1 col34\" >1</td>\n",
              "      <td id=\"T_8e939_row1_col35\" class=\"data row1 col35\" >2</td>\n",
              "      <td id=\"T_8e939_row1_col36\" class=\"data row1 col36\" >3</td>\n",
              "      <td id=\"T_8e939_row1_col37\" class=\"data row1 col37\" >1</td>\n",
              "      <td id=\"T_8e939_row1_col38\" class=\"data row1 col38\" >5</td>\n",
              "      <td id=\"T_8e939_row1_col39\" class=\"data row1 col39\" >2</td>\n",
              "      <td id=\"T_8e939_row1_col40\" class=\"data row1 col40\" >3</td>\n",
              "      <td id=\"T_8e939_row1_col41\" class=\"data row1 col41\" >0</td>\n",
              "      <td id=\"T_8e939_row1_col42\" class=\"data row1 col42\" >2</td>\n",
              "      <td id=\"T_8e939_row1_col43\" class=\"data row1 col43\" >1</td>\n",
              "      <td id=\"T_8e939_row1_col44\" class=\"data row1 col44\" >1</td>\n",
              "      <td id=\"T_8e939_row1_col45\" class=\"data row1 col45\" >1</td>\n",
              "      <td id=\"T_8e939_row1_col46\" class=\"data row1 col46\" >58</td>\n",
              "    </tr>\n",
              "    <tr>\n",
              "      <th id=\"T_8e939_level0_row2\" class=\"row_heading level0 row2\" >All</th>\n",
              "      <td id=\"T_8e939_row2_col0\" class=\"data row2 col0\" >1</td>\n",
              "      <td id=\"T_8e939_row2_col1\" class=\"data row2 col1\" >1</td>\n",
              "      <td id=\"T_8e939_row2_col2\" class=\"data row2 col2\" >1</td>\n",
              "      <td id=\"T_8e939_row2_col3\" class=\"data row2 col3\" >1</td>\n",
              "      <td id=\"T_8e939_row2_col4\" class=\"data row2 col4\" >3</td>\n",
              "      <td id=\"T_8e939_row2_col5\" class=\"data row2 col5\" >1</td>\n",
              "      <td id=\"T_8e939_row2_col6\" class=\"data row2 col6\" >1</td>\n",
              "      <td id=\"T_8e939_row2_col7\" class=\"data row2 col7\" >2</td>\n",
              "      <td id=\"T_8e939_row2_col8\" class=\"data row2 col8\" >1</td>\n",
              "      <td id=\"T_8e939_row2_col9\" class=\"data row2 col9\" >3</td>\n",
              "      <td id=\"T_8e939_row2_col10\" class=\"data row2 col10\" >1</td>\n",
              "      <td id=\"T_8e939_row2_col11\" class=\"data row2 col11\" >2</td>\n",
              "      <td id=\"T_8e939_row2_col12\" class=\"data row2 col12\" >2</td>\n",
              "      <td id=\"T_8e939_row2_col13\" class=\"data row2 col13\" >3</td>\n",
              "      <td id=\"T_8e939_row2_col14\" class=\"data row2 col14\" >4</td>\n",
              "      <td id=\"T_8e939_row2_col15\" class=\"data row2 col15\" >1</td>\n",
              "      <td id=\"T_8e939_row2_col16\" class=\"data row2 col16\" >5</td>\n",
              "      <td id=\"T_8e939_row2_col17\" class=\"data row2 col17\" >7</td>\n",
              "      <td id=\"T_8e939_row2_col18\" class=\"data row2 col18\" >6</td>\n",
              "      <td id=\"T_8e939_row2_col19\" class=\"data row2 col19\" >3</td>\n",
              "      <td id=\"T_8e939_row2_col20\" class=\"data row2 col20\" >3</td>\n",
              "      <td id=\"T_8e939_row2_col21\" class=\"data row2 col21\" >9</td>\n",
              "      <td id=\"T_8e939_row2_col22\" class=\"data row2 col22\" >5</td>\n",
              "      <td id=\"T_8e939_row2_col23\" class=\"data row2 col23\" >8</td>\n",
              "      <td id=\"T_8e939_row2_col24\" class=\"data row2 col24\" >1</td>\n",
              "      <td id=\"T_8e939_row2_col25\" class=\"data row2 col25\" >3</td>\n",
              "      <td id=\"T_8e939_row2_col26\" class=\"data row2 col26\" >4</td>\n",
              "      <td id=\"T_8e939_row2_col27\" class=\"data row2 col27\" >2</td>\n",
              "      <td id=\"T_8e939_row2_col28\" class=\"data row2 col28\" >6</td>\n",
              "      <td id=\"T_8e939_row2_col29\" class=\"data row2 col29\" >5</td>\n",
              "      <td id=\"T_8e939_row2_col30\" class=\"data row2 col30\" >10</td>\n",
              "      <td id=\"T_8e939_row2_col31\" class=\"data row2 col31\" >3</td>\n",
              "      <td id=\"T_8e939_row2_col32\" class=\"data row2 col32\" >3</td>\n",
              "      <td id=\"T_8e939_row2_col33\" class=\"data row2 col33\" >3</td>\n",
              "      <td id=\"T_8e939_row2_col34\" class=\"data row2 col34\" >4</td>\n",
              "      <td id=\"T_8e939_row2_col35\" class=\"data row2 col35\" >2</td>\n",
              "      <td id=\"T_8e939_row2_col36\" class=\"data row2 col36\" >4</td>\n",
              "      <td id=\"T_8e939_row2_col37\" class=\"data row2 col37\" >2</td>\n",
              "      <td id=\"T_8e939_row2_col38\" class=\"data row2 col38\" >7</td>\n",
              "      <td id=\"T_8e939_row2_col39\" class=\"data row2 col39\" >5</td>\n",
              "      <td id=\"T_8e939_row2_col40\" class=\"data row2 col40\" >5</td>\n",
              "      <td id=\"T_8e939_row2_col41\" class=\"data row2 col41\" >1</td>\n",
              "      <td id=\"T_8e939_row2_col42\" class=\"data row2 col42\" >2</td>\n",
              "      <td id=\"T_8e939_row2_col43\" class=\"data row2 col43\" >2</td>\n",
              "      <td id=\"T_8e939_row2_col44\" class=\"data row2 col44\" >1</td>\n",
              "      <td id=\"T_8e939_row2_col45\" class=\"data row2 col45\" >1</td>\n",
              "      <td id=\"T_8e939_row2_col46\" class=\"data row2 col46\" >150</td>\n",
              "    </tr>\n",
              "  </tbody>\n",
              "</table>\n"
            ],
            "text/plain": [
              "<pandas.io.formats.style.Styler at 0x1d133ff0640>"
            ]
          },
          "execution_count": 21,
          "metadata": {},
          "output_type": "execute_result"
        }
      ],
      "source": [
        "pd.crosstab(index=sample['Content Type'], columns=[sample['Imdb Score']],\n",
        "            margins=True).style.background_gradient(cmap='YlGn')"
      ]
    },
    {
      "cell_type": "code",
      "execution_count": 22,
      "metadata": {
        "colab": {
          "base_uri": "https://localhost:8080/",
          "height": 455
        },
        "id": "Bw5IPjbVoM8c",
        "outputId": "ccba44a9-771e-4225-e880-a218509bb0f4"
      },
      "outputs": [
        {
          "data": {
            "text/html": [
              "<div>\n",
              "<style scoped>\n",
              "    .dataframe tbody tr th:only-of-type {\n",
              "        vertical-align: middle;\n",
              "    }\n",
              "\n",
              "    .dataframe tbody tr th {\n",
              "        vertical-align: top;\n",
              "    }\n",
              "\n",
              "    .dataframe thead th {\n",
              "        text-align: right;\n",
              "    }\n",
              "</style>\n",
              "<table border=\"1\" class=\"dataframe\">\n",
              "  <thead>\n",
              "    <tr style=\"text-align: right;\">\n",
              "      <th></th>\n",
              "      <th>Imdb Score</th>\n",
              "    </tr>\n",
              "    <tr>\n",
              "      <th>Production Country</th>\n",
              "      <th></th>\n",
              "    </tr>\n",
              "  </thead>\n",
              "  <tbody>\n",
              "    <tr>\n",
              "      <th>Ireland, United States, United Kingdom</th>\n",
              "      <td>8.7</td>\n",
              "    </tr>\n",
              "    <tr>\n",
              "      <th>United States, Colombia, Mexico</th>\n",
              "      <td>8.7</td>\n",
              "    </tr>\n",
              "    <tr>\n",
              "      <th>United Kingdom, United States, Japan</th>\n",
              "      <td>8.6</td>\n",
              "    </tr>\n",
              "    <tr>\n",
              "      <th>United Kingdom, France, Poland, Germany, United States</th>\n",
              "      <td>8.6</td>\n",
              "    </tr>\n",
              "    <tr>\n",
              "      <th>Romania, United Kingdom</th>\n",
              "      <td>8.6</td>\n",
              "    </tr>\n",
              "    <tr>\n",
              "      <th>...</th>\n",
              "      <td>...</td>\n",
              "    </tr>\n",
              "    <tr>\n",
              "      <th>Jordan</th>\n",
              "      <td>3.4</td>\n",
              "    </tr>\n",
              "    <tr>\n",
              "      <th>United States, India, South Korea, China</th>\n",
              "      <td>3.3</td>\n",
              "    </tr>\n",
              "    <tr>\n",
              "      <th>Bulgaria</th>\n",
              "      <td>3.2</td>\n",
              "    </tr>\n",
              "    <tr>\n",
              "      <th>Saudi Arabia, United Arab Emirates</th>\n",
              "      <td>3.2</td>\n",
              "    </tr>\n",
              "    <tr>\n",
              "      <th>Turkey, India</th>\n",
              "      <td>2.5</td>\n",
              "    </tr>\n",
              "  </tbody>\n",
              "</table>\n",
              "<p>507 rows × 1 columns</p>\n",
              "</div>"
            ],
            "text/plain": [
              "                                                    Imdb Score\n",
              "Production Country                                            \n",
              "Ireland, United States, United Kingdom                     8.7\n",
              "United States, Colombia, Mexico                            8.7\n",
              "United Kingdom, United States, Japan                       8.6\n",
              "United Kingdom, France, Poland, Germany, United...         8.6\n",
              "Romania, United Kingdom                                    8.6\n",
              "...                                                        ...\n",
              "Jordan                                                     3.4\n",
              "United States, India, South Korea, China                   3.3\n",
              "Bulgaria                                                   3.2\n",
              "Saudi Arabia, United Arab Emirates                         3.2\n",
              "Turkey, India                                              2.5\n",
              "\n",
              "[507 rows x 1 columns]"
            ]
          },
          "execution_count": 22,
          "metadata": {},
          "output_type": "execute_result"
        }
      ],
      "source": [
        "pd.DataFrame(data.groupby('Production Country')['Imdb Score'].mean()).sort_values(ascending=False, by='Imdb Score')"
      ]
    }
  ],
  "metadata": {
    "colab": {
      "collapsed_sections": [],
      "provenance": []
    },
    "kernelspec": {
      "display_name": "Python 3.9.12 ('base')",
      "language": "python",
      "name": "python3"
    },
    "language_info": {
      "codemirror_mode": {
        "name": "ipython",
        "version": 3
      },
      "file_extension": ".py",
      "mimetype": "text/x-python",
      "name": "python",
      "nbconvert_exporter": "python",
      "pygments_lexer": "ipython3",
      "version": "3.9.12"
    },
    "vscode": {
      "interpreter": {
        "hash": "437260413a0ede611d154649f60db6593329bdfaea0c03dc9e40916710d6e715"
      }
    }
  },
  "nbformat": 4,
  "nbformat_minor": 0
}
