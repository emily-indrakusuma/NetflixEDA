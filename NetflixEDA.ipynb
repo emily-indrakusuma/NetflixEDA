{
  "nbformat": 4,
  "nbformat_minor": 0,
  "metadata": {
    "colab": {
      "provenance": [],
      "collapsed_sections": []
    },
    "kernelspec": {
      "name": "python3",
      "display_name": "Python 3"
    },
    "language_info": {
      "name": "python"
    }
  },
  "cells": [
    {
      "cell_type": "markdown",
      "source": [
        "# **NETFLIX EDA**"
      ],
      "metadata": {
        "id": "wq_KSmbRbL2V"
      }
    },
    {
      "cell_type": "code",
      "execution_count": 35,
      "metadata": {
        "id": "adpz6_m4bJ71"
      },
      "outputs": [],
      "source": [
        "import numpy as np \n",
        "import pandas as pd \n",
        "import seaborn as sns\n",
        "from textwrap import wrap\n",
        "import matplotlib.pyplot as plt"
      ]
    },
    {
      "cell_type": "code",
      "source": [
        "data = pd.read_csv(\"netflixData.csv\")"
      ],
      "metadata": {
        "id": "HUrxpChQk6rH"
      },
      "execution_count": 37,
      "outputs": []
    },
    {
      "cell_type": "code",
      "source": [
        "data.head()"
      ],
      "metadata": {
        "colab": {
          "base_uri": "https://localhost:8080/",
          "height": 652
        },
        "id": "XyeqxG71k6ur",
        "outputId": "326d0f9b-b913-4265-ce1f-60bd36556aa5"
      },
      "execution_count": 38,
      "outputs": [
        {
          "output_type": "execute_result",
          "data": {
            "text/plain": [
              "                                Show Id                          Title  \\\n",
              "0  cc1b6ed9-cf9e-4057-8303-34577fb54477                       (Un)Well   \n",
              "1  e2ef4e91-fb25-42ab-b485-be8e3b23dedb                         #Alive   \n",
              "2  b01b73b7-81f6-47a7-86d8-acb63080d525  #AnneFrank - Parallel Stories   \n",
              "3  b6611af0-f53c-4a08-9ffa-9716dc57eb9c                       #blackAF   \n",
              "4  7f2d4170-bab8-4d75-adc2-197f7124c070               #cats_the_mewvie   \n",
              "\n",
              "                                         Description  \\\n",
              "0  This docuseries takes a deep dive into the luc...   \n",
              "1  As a grisly virus rampages a city, a lone man ...   \n",
              "2  Through her diary, Anne Frank's story is retol...   \n",
              "3  Kenya Barris and his family navigate relations...   \n",
              "4  This pawesome documentary explores how our fel...   \n",
              "\n",
              "                      Director  \\\n",
              "0                          NaN   \n",
              "1                       Cho Il   \n",
              "2  Sabina Fedeli, Anna Migotto   \n",
              "3                          NaN   \n",
              "4             Michael Margolis   \n",
              "\n",
              "                                           Genres  \\\n",
              "0                                      Reality TV   \n",
              "1  Horror Movies, International Movies, Thrillers   \n",
              "2             Documentaries, International Movies   \n",
              "3                                     TV Comedies   \n",
              "4             Documentaries, International Movies   \n",
              "\n",
              "                                                Cast Production Country  \\\n",
              "0                                                NaN      United States   \n",
              "1                           Yoo Ah-in, Park Shin-hye        South Korea   \n",
              "2                        Helen Mirren, Gengher Gatti              Italy   \n",
              "3  Kenya Barris, Rashida Jones, Iman Benson, Genn...      United States   \n",
              "4                                                NaN             Canada   \n",
              "\n",
              "   Release Date Rating  Duration Imdb Score Content Type         Date Added  \n",
              "0        2020.0  TV-MA  1 Season     6.6/10      TV Show                NaN  \n",
              "1        2020.0  TV-MA    99 min     6.2/10        Movie  September 8, 2020  \n",
              "2        2019.0  TV-14    95 min     6.4/10        Movie       July 1, 2020  \n",
              "3        2020.0  TV-MA  1 Season     6.6/10      TV Show                NaN  \n",
              "4        2020.0  TV-14    90 min     5.1/10        Movie   February 5, 2020  "
            ],
            "text/html": [
              "\n",
              "  <div id=\"df-53e03ea2-5bc7-4ac2-b7f1-10c131868820\">\n",
              "    <div class=\"colab-df-container\">\n",
              "      <div>\n",
              "<style scoped>\n",
              "    .dataframe tbody tr th:only-of-type {\n",
              "        vertical-align: middle;\n",
              "    }\n",
              "\n",
              "    .dataframe tbody tr th {\n",
              "        vertical-align: top;\n",
              "    }\n",
              "\n",
              "    .dataframe thead th {\n",
              "        text-align: right;\n",
              "    }\n",
              "</style>\n",
              "<table border=\"1\" class=\"dataframe\">\n",
              "  <thead>\n",
              "    <tr style=\"text-align: right;\">\n",
              "      <th></th>\n",
              "      <th>Show Id</th>\n",
              "      <th>Title</th>\n",
              "      <th>Description</th>\n",
              "      <th>Director</th>\n",
              "      <th>Genres</th>\n",
              "      <th>Cast</th>\n",
              "      <th>Production Country</th>\n",
              "      <th>Release Date</th>\n",
              "      <th>Rating</th>\n",
              "      <th>Duration</th>\n",
              "      <th>Imdb Score</th>\n",
              "      <th>Content Type</th>\n",
              "      <th>Date Added</th>\n",
              "    </tr>\n",
              "  </thead>\n",
              "  <tbody>\n",
              "    <tr>\n",
              "      <th>0</th>\n",
              "      <td>cc1b6ed9-cf9e-4057-8303-34577fb54477</td>\n",
              "      <td>(Un)Well</td>\n",
              "      <td>This docuseries takes a deep dive into the luc...</td>\n",
              "      <td>NaN</td>\n",
              "      <td>Reality TV</td>\n",
              "      <td>NaN</td>\n",
              "      <td>United States</td>\n",
              "      <td>2020.0</td>\n",
              "      <td>TV-MA</td>\n",
              "      <td>1 Season</td>\n",
              "      <td>6.6/10</td>\n",
              "      <td>TV Show</td>\n",
              "      <td>NaN</td>\n",
              "    </tr>\n",
              "    <tr>\n",
              "      <th>1</th>\n",
              "      <td>e2ef4e91-fb25-42ab-b485-be8e3b23dedb</td>\n",
              "      <td>#Alive</td>\n",
              "      <td>As a grisly virus rampages a city, a lone man ...</td>\n",
              "      <td>Cho Il</td>\n",
              "      <td>Horror Movies, International Movies, Thrillers</td>\n",
              "      <td>Yoo Ah-in, Park Shin-hye</td>\n",
              "      <td>South Korea</td>\n",
              "      <td>2020.0</td>\n",
              "      <td>TV-MA</td>\n",
              "      <td>99 min</td>\n",
              "      <td>6.2/10</td>\n",
              "      <td>Movie</td>\n",
              "      <td>September 8, 2020</td>\n",
              "    </tr>\n",
              "    <tr>\n",
              "      <th>2</th>\n",
              "      <td>b01b73b7-81f6-47a7-86d8-acb63080d525</td>\n",
              "      <td>#AnneFrank - Parallel Stories</td>\n",
              "      <td>Through her diary, Anne Frank's story is retol...</td>\n",
              "      <td>Sabina Fedeli, Anna Migotto</td>\n",
              "      <td>Documentaries, International Movies</td>\n",
              "      <td>Helen Mirren, Gengher Gatti</td>\n",
              "      <td>Italy</td>\n",
              "      <td>2019.0</td>\n",
              "      <td>TV-14</td>\n",
              "      <td>95 min</td>\n",
              "      <td>6.4/10</td>\n",
              "      <td>Movie</td>\n",
              "      <td>July 1, 2020</td>\n",
              "    </tr>\n",
              "    <tr>\n",
              "      <th>3</th>\n",
              "      <td>b6611af0-f53c-4a08-9ffa-9716dc57eb9c</td>\n",
              "      <td>#blackAF</td>\n",
              "      <td>Kenya Barris and his family navigate relations...</td>\n",
              "      <td>NaN</td>\n",
              "      <td>TV Comedies</td>\n",
              "      <td>Kenya Barris, Rashida Jones, Iman Benson, Genn...</td>\n",
              "      <td>United States</td>\n",
              "      <td>2020.0</td>\n",
              "      <td>TV-MA</td>\n",
              "      <td>1 Season</td>\n",
              "      <td>6.6/10</td>\n",
              "      <td>TV Show</td>\n",
              "      <td>NaN</td>\n",
              "    </tr>\n",
              "    <tr>\n",
              "      <th>4</th>\n",
              "      <td>7f2d4170-bab8-4d75-adc2-197f7124c070</td>\n",
              "      <td>#cats_the_mewvie</td>\n",
              "      <td>This pawesome documentary explores how our fel...</td>\n",
              "      <td>Michael Margolis</td>\n",
              "      <td>Documentaries, International Movies</td>\n",
              "      <td>NaN</td>\n",
              "      <td>Canada</td>\n",
              "      <td>2020.0</td>\n",
              "      <td>TV-14</td>\n",
              "      <td>90 min</td>\n",
              "      <td>5.1/10</td>\n",
              "      <td>Movie</td>\n",
              "      <td>February 5, 2020</td>\n",
              "    </tr>\n",
              "  </tbody>\n",
              "</table>\n",
              "</div>\n",
              "      <button class=\"colab-df-convert\" onclick=\"convertToInteractive('df-53e03ea2-5bc7-4ac2-b7f1-10c131868820')\"\n",
              "              title=\"Convert this dataframe to an interactive table.\"\n",
              "              style=\"display:none;\">\n",
              "        \n",
              "  <svg xmlns=\"http://www.w3.org/2000/svg\" height=\"24px\"viewBox=\"0 0 24 24\"\n",
              "       width=\"24px\">\n",
              "    <path d=\"M0 0h24v24H0V0z\" fill=\"none\"/>\n",
              "    <path d=\"M18.56 5.44l.94 2.06.94-2.06 2.06-.94-2.06-.94-.94-2.06-.94 2.06-2.06.94zm-11 1L8.5 8.5l.94-2.06 2.06-.94-2.06-.94L8.5 2.5l-.94 2.06-2.06.94zm10 10l.94 2.06.94-2.06 2.06-.94-2.06-.94-.94-2.06-.94 2.06-2.06.94z\"/><path d=\"M17.41 7.96l-1.37-1.37c-.4-.4-.92-.59-1.43-.59-.52 0-1.04.2-1.43.59L10.3 9.45l-7.72 7.72c-.78.78-.78 2.05 0 2.83L4 21.41c.39.39.9.59 1.41.59.51 0 1.02-.2 1.41-.59l7.78-7.78 2.81-2.81c.8-.78.8-2.07 0-2.86zM5.41 20L4 18.59l7.72-7.72 1.47 1.35L5.41 20z\"/>\n",
              "  </svg>\n",
              "      </button>\n",
              "      \n",
              "  <style>\n",
              "    .colab-df-container {\n",
              "      display:flex;\n",
              "      flex-wrap:wrap;\n",
              "      gap: 12px;\n",
              "    }\n",
              "\n",
              "    .colab-df-convert {\n",
              "      background-color: #E8F0FE;\n",
              "      border: none;\n",
              "      border-radius: 50%;\n",
              "      cursor: pointer;\n",
              "      display: none;\n",
              "      fill: #1967D2;\n",
              "      height: 32px;\n",
              "      padding: 0 0 0 0;\n",
              "      width: 32px;\n",
              "    }\n",
              "\n",
              "    .colab-df-convert:hover {\n",
              "      background-color: #E2EBFA;\n",
              "      box-shadow: 0px 1px 2px rgba(60, 64, 67, 0.3), 0px 1px 3px 1px rgba(60, 64, 67, 0.15);\n",
              "      fill: #174EA6;\n",
              "    }\n",
              "\n",
              "    [theme=dark] .colab-df-convert {\n",
              "      background-color: #3B4455;\n",
              "      fill: #D2E3FC;\n",
              "    }\n",
              "\n",
              "    [theme=dark] .colab-df-convert:hover {\n",
              "      background-color: #434B5C;\n",
              "      box-shadow: 0px 1px 3px 1px rgba(0, 0, 0, 0.15);\n",
              "      filter: drop-shadow(0px 1px 2px rgba(0, 0, 0, 0.3));\n",
              "      fill: #FFFFFF;\n",
              "    }\n",
              "  </style>\n",
              "\n",
              "      <script>\n",
              "        const buttonEl =\n",
              "          document.querySelector('#df-53e03ea2-5bc7-4ac2-b7f1-10c131868820 button.colab-df-convert');\n",
              "        buttonEl.style.display =\n",
              "          google.colab.kernel.accessAllowed ? 'block' : 'none';\n",
              "\n",
              "        async function convertToInteractive(key) {\n",
              "          const element = document.querySelector('#df-53e03ea2-5bc7-4ac2-b7f1-10c131868820');\n",
              "          const dataTable =\n",
              "            await google.colab.kernel.invokeFunction('convertToInteractive',\n",
              "                                                     [key], {});\n",
              "          if (!dataTable) return;\n",
              "\n",
              "          const docLinkHtml = 'Like what you see? Visit the ' +\n",
              "            '<a target=\"_blank\" href=https://colab.research.google.com/notebooks/data_table.ipynb>data table notebook</a>'\n",
              "            + ' to learn more about interactive tables.';\n",
              "          element.innerHTML = '';\n",
              "          dataTable['output_type'] = 'display_data';\n",
              "          await google.colab.output.renderOutput(dataTable, element);\n",
              "          const docLink = document.createElement('div');\n",
              "          docLink.innerHTML = docLinkHtml;\n",
              "          element.appendChild(docLink);\n",
              "        }\n",
              "      </script>\n",
              "    </div>\n",
              "  </div>\n",
              "  "
            ]
          },
          "metadata": {},
          "execution_count": 38
        }
      ]
    },
    {
      "cell_type": "code",
      "source": [
        "#number of rows and columns\n",
        "data.shape"
      ],
      "metadata": {
        "colab": {
          "base_uri": "https://localhost:8080/"
        },
        "id": "tzaaIamHbKWA",
        "outputId": "42912b23-754e-46a2-8b87-e0c748c7689e"
      },
      "execution_count": 3,
      "outputs": [
        {
          "output_type": "execute_result",
          "data": {
            "text/plain": [
              "(5967, 13)"
            ]
          },
          "metadata": {},
          "execution_count": 3
        }
      ]
    },
    {
      "cell_type": "code",
      "source": [
        "#check null fields\n",
        "data.isnull().sum()"
      ],
      "metadata": {
        "colab": {
          "base_uri": "https://localhost:8080/"
        },
        "id": "cAgS9i7zbz8k",
        "outputId": "467af14d-ea04-4f7a-8f1e-05611f3d46c4"
      },
      "execution_count": 4,
      "outputs": [
        {
          "output_type": "execute_result",
          "data": {
            "text/plain": [
              "Show Id                  0\n",
              "Title                    0\n",
              "Description              0\n",
              "Director              2064\n",
              "Genres                   0\n",
              "Cast                   530\n",
              "Production Country     559\n",
              "Release Date             3\n",
              "Rating                   4\n",
              "Duration                 3\n",
              "Imdb Score             608\n",
              "Content Type             0\n",
              "Date Added            1335\n",
              "dtype: int64"
            ]
          },
          "metadata": {},
          "execution_count": 4
        }
      ]
    },
    {
      "cell_type": "code",
      "source": [
        "data = data[[\"Title\", \"Description\", \"Content Type\", \"Genres\",\"Production Country\",\"Imdb Score\",]]\n",
        "data.head()"
      ],
      "metadata": {
        "colab": {
          "base_uri": "https://localhost:8080/",
          "height": 354
        },
        "id": "1Q0L9R3kcDkJ",
        "outputId": "fbba81c3-be07-4dc6-bfde-608e7b110139"
      },
      "execution_count": 62,
      "outputs": [
        {
          "output_type": "execute_result",
          "data": {
            "text/plain": [
              "                       Title  \\\n",
              "0                      unwel   \n",
              "1                       aliv   \n",
              "2  annefrank  parallel stori   \n",
              "3                    blackaf   \n",
              "4               catsthemewvi   \n",
              "\n",
              "                                         Description Content Type  \\\n",
              "0  This docuseries takes a deep dive into the luc...      TV Show   \n",
              "1  As a grisly virus rampages a city, a lone man ...        Movie   \n",
              "2  Through her diary, Anne Frank's story is retol...        Movie   \n",
              "3  Kenya Barris and his family navigate relations...      TV Show   \n",
              "4  This pawesome documentary explores how our fel...        Movie   \n",
              "\n",
              "                                           Genres Production Country  \\\n",
              "0                                      Reality TV      United States   \n",
              "1  Horror Movies, International Movies, Thrillers        South Korea   \n",
              "2             Documentaries, International Movies              Italy   \n",
              "3                                     TV Comedies      United States   \n",
              "4             Documentaries, International Movies             Canada   \n",
              "\n",
              "   Imdb Score  \n",
              "0         6.6  \n",
              "1         6.2  \n",
              "2         6.4  \n",
              "3         6.6  \n",
              "4         5.1  "
            ],
            "text/html": [
              "\n",
              "  <div id=\"df-8422ddf0-f90e-4148-9178-2b5eae5de36f\">\n",
              "    <div class=\"colab-df-container\">\n",
              "      <div>\n",
              "<style scoped>\n",
              "    .dataframe tbody tr th:only-of-type {\n",
              "        vertical-align: middle;\n",
              "    }\n",
              "\n",
              "    .dataframe tbody tr th {\n",
              "        vertical-align: top;\n",
              "    }\n",
              "\n",
              "    .dataframe thead th {\n",
              "        text-align: right;\n",
              "    }\n",
              "</style>\n",
              "<table border=\"1\" class=\"dataframe\">\n",
              "  <thead>\n",
              "    <tr style=\"text-align: right;\">\n",
              "      <th></th>\n",
              "      <th>Title</th>\n",
              "      <th>Description</th>\n",
              "      <th>Content Type</th>\n",
              "      <th>Genres</th>\n",
              "      <th>Production Country</th>\n",
              "      <th>Imdb Score</th>\n",
              "    </tr>\n",
              "  </thead>\n",
              "  <tbody>\n",
              "    <tr>\n",
              "      <th>0</th>\n",
              "      <td>unwel</td>\n",
              "      <td>This docuseries takes a deep dive into the luc...</td>\n",
              "      <td>TV Show</td>\n",
              "      <td>Reality TV</td>\n",
              "      <td>United States</td>\n",
              "      <td>6.6</td>\n",
              "    </tr>\n",
              "    <tr>\n",
              "      <th>1</th>\n",
              "      <td>aliv</td>\n",
              "      <td>As a grisly virus rampages a city, a lone man ...</td>\n",
              "      <td>Movie</td>\n",
              "      <td>Horror Movies, International Movies, Thrillers</td>\n",
              "      <td>South Korea</td>\n",
              "      <td>6.2</td>\n",
              "    </tr>\n",
              "    <tr>\n",
              "      <th>2</th>\n",
              "      <td>annefrank  parallel stori</td>\n",
              "      <td>Through her diary, Anne Frank's story is retol...</td>\n",
              "      <td>Movie</td>\n",
              "      <td>Documentaries, International Movies</td>\n",
              "      <td>Italy</td>\n",
              "      <td>6.4</td>\n",
              "    </tr>\n",
              "    <tr>\n",
              "      <th>3</th>\n",
              "      <td>blackaf</td>\n",
              "      <td>Kenya Barris and his family navigate relations...</td>\n",
              "      <td>TV Show</td>\n",
              "      <td>TV Comedies</td>\n",
              "      <td>United States</td>\n",
              "      <td>6.6</td>\n",
              "    </tr>\n",
              "    <tr>\n",
              "      <th>4</th>\n",
              "      <td>catsthemewvi</td>\n",
              "      <td>This pawesome documentary explores how our fel...</td>\n",
              "      <td>Movie</td>\n",
              "      <td>Documentaries, International Movies</td>\n",
              "      <td>Canada</td>\n",
              "      <td>5.1</td>\n",
              "    </tr>\n",
              "  </tbody>\n",
              "</table>\n",
              "</div>\n",
              "      <button class=\"colab-df-convert\" onclick=\"convertToInteractive('df-8422ddf0-f90e-4148-9178-2b5eae5de36f')\"\n",
              "              title=\"Convert this dataframe to an interactive table.\"\n",
              "              style=\"display:none;\">\n",
              "        \n",
              "  <svg xmlns=\"http://www.w3.org/2000/svg\" height=\"24px\"viewBox=\"0 0 24 24\"\n",
              "       width=\"24px\">\n",
              "    <path d=\"M0 0h24v24H0V0z\" fill=\"none\"/>\n",
              "    <path d=\"M18.56 5.44l.94 2.06.94-2.06 2.06-.94-2.06-.94-.94-2.06-.94 2.06-2.06.94zm-11 1L8.5 8.5l.94-2.06 2.06-.94-2.06-.94L8.5 2.5l-.94 2.06-2.06.94zm10 10l.94 2.06.94-2.06 2.06-.94-2.06-.94-.94-2.06-.94 2.06-2.06.94z\"/><path d=\"M17.41 7.96l-1.37-1.37c-.4-.4-.92-.59-1.43-.59-.52 0-1.04.2-1.43.59L10.3 9.45l-7.72 7.72c-.78.78-.78 2.05 0 2.83L4 21.41c.39.39.9.59 1.41.59.51 0 1.02-.2 1.41-.59l7.78-7.78 2.81-2.81c.8-.78.8-2.07 0-2.86zM5.41 20L4 18.59l7.72-7.72 1.47 1.35L5.41 20z\"/>\n",
              "  </svg>\n",
              "      </button>\n",
              "      \n",
              "  <style>\n",
              "    .colab-df-container {\n",
              "      display:flex;\n",
              "      flex-wrap:wrap;\n",
              "      gap: 12px;\n",
              "    }\n",
              "\n",
              "    .colab-df-convert {\n",
              "      background-color: #E8F0FE;\n",
              "      border: none;\n",
              "      border-radius: 50%;\n",
              "      cursor: pointer;\n",
              "      display: none;\n",
              "      fill: #1967D2;\n",
              "      height: 32px;\n",
              "      padding: 0 0 0 0;\n",
              "      width: 32px;\n",
              "    }\n",
              "\n",
              "    .colab-df-convert:hover {\n",
              "      background-color: #E2EBFA;\n",
              "      box-shadow: 0px 1px 2px rgba(60, 64, 67, 0.3), 0px 1px 3px 1px rgba(60, 64, 67, 0.15);\n",
              "      fill: #174EA6;\n",
              "    }\n",
              "\n",
              "    [theme=dark] .colab-df-convert {\n",
              "      background-color: #3B4455;\n",
              "      fill: #D2E3FC;\n",
              "    }\n",
              "\n",
              "    [theme=dark] .colab-df-convert:hover {\n",
              "      background-color: #434B5C;\n",
              "      box-shadow: 0px 1px 3px 1px rgba(0, 0, 0, 0.15);\n",
              "      filter: drop-shadow(0px 1px 2px rgba(0, 0, 0, 0.3));\n",
              "      fill: #FFFFFF;\n",
              "    }\n",
              "  </style>\n",
              "\n",
              "      <script>\n",
              "        const buttonEl =\n",
              "          document.querySelector('#df-8422ddf0-f90e-4148-9178-2b5eae5de36f button.colab-df-convert');\n",
              "        buttonEl.style.display =\n",
              "          google.colab.kernel.accessAllowed ? 'block' : 'none';\n",
              "\n",
              "        async function convertToInteractive(key) {\n",
              "          const element = document.querySelector('#df-8422ddf0-f90e-4148-9178-2b5eae5de36f');\n",
              "          const dataTable =\n",
              "            await google.colab.kernel.invokeFunction('convertToInteractive',\n",
              "                                                     [key], {});\n",
              "          if (!dataTable) return;\n",
              "\n",
              "          const docLinkHtml = 'Like what you see? Visit the ' +\n",
              "            '<a target=\"_blank\" href=https://colab.research.google.com/notebooks/data_table.ipynb>data table notebook</a>'\n",
              "            + ' to learn more about interactive tables.';\n",
              "          element.innerHTML = '';\n",
              "          dataTable['output_type'] = 'display_data';\n",
              "          await google.colab.output.renderOutput(dataTable, element);\n",
              "          const docLink = document.createElement('div');\n",
              "          docLink.innerHTML = docLinkHtml;\n",
              "          element.appendChild(docLink);\n",
              "        }\n",
              "      </script>\n",
              "    </div>\n",
              "  </div>\n",
              "  "
            ]
          },
          "metadata": {},
          "execution_count": 62
        }
      ]
    },
    {
      "cell_type": "code",
      "source": [
        "#drop column with null value\n",
        "data = data.dropna()"
      ],
      "metadata": {
        "id": "Hrw27OPucKff"
      },
      "execution_count": 46,
      "outputs": []
    },
    {
      "cell_type": "code",
      "source": [
        "import nltk\n",
        "import re\n",
        "nltk.download('stopwords')\n",
        "stemmer = nltk.SnowballStemmer(\"english\")\n",
        "from nltk.corpus import stopwords\n",
        "import string\n",
        "stopword=set(stopwords.words('english'))\n",
        "\n",
        "def clean(text):\n",
        "    text = str(text).lower()\n",
        "    text = re.sub('\\[.*?\\]', '', text)\n",
        "    text = re.sub('https?://\\S+|www\\.\\S+', '', text)\n",
        "    text = re.sub('<.*?>+', '', text)\n",
        "    text = re.sub('[%s]' % re.escape(string.punctuation), '', text)\n",
        "    text = re.sub('\\n', '', text)\n",
        "    text = re.sub('\\w*\\d\\w*', '', text)\n",
        "    text = [word for word in text.split(' ') if word not in stopword]\n",
        "    text=\" \".join(text)\n",
        "    text = [stemmer.stem(word) for word in text.split(' ')]\n",
        "    text=\" \".join(text)\n",
        "    return text\n",
        "data[\"Title\"] = data[\"Title\"].apply(clean)"
      ],
      "metadata": {
        "colab": {
          "base_uri": "https://localhost:8080/"
        },
        "id": "BfGc6yKKcZF2",
        "outputId": "9258517e-0f4c-468c-940e-00847077f269"
      },
      "execution_count": 47,
      "outputs": [
        {
          "output_type": "stream",
          "name": "stderr",
          "text": [
            "[nltk_data] Downloading package stopwords to /root/nltk_data...\n",
            "[nltk_data]   Package stopwords is already up-to-date!\n",
            "/usr/local/lib/python3.7/dist-packages/ipykernel_launcher.py:22: SettingWithCopyWarning: \n",
            "A value is trying to be set on a copy of a slice from a DataFrame.\n",
            "Try using .loc[row_indexer,col_indexer] = value instead\n",
            "\n",
            "See the caveats in the documentation: https://pandas.pydata.org/pandas-docs/stable/user_guide/indexing.html#returning-a-view-versus-a-copy\n"
          ]
        }
      ]
    },
    {
      "cell_type": "code",
      "source": [
        "data[\"Title\"]"
      ],
      "metadata": {
        "colab": {
          "base_uri": "https://localhost:8080/"
        },
        "id": "jdo6BTqrdgev",
        "outputId": "fdbb055f-4ef6-4077-9f64-cd557f2423d4"
      },
      "execution_count": 41,
      "outputs": [
        {
          "output_type": "execute_result",
          "data": {
            "text/plain": [
              "0                           unwel\n",
              "1                            aliv\n",
              "2       annefrank  parallel stori\n",
              "3                         blackaf\n",
              "4                    catsthemewvi\n",
              "                  ...            \n",
              "5962                    الف مبروك\n",
              "5963                 دفعة القاهرة\n",
              "5964                         海的儿子\n",
              "5965                      반드시 잡는다\n",
              "5966           최강전사 미니특공대  영웅의 탄생\n",
              "Name: Title, Length: 5967, dtype: object"
            ]
          },
          "metadata": {},
          "execution_count": 41
        }
      ]
    },
    {
      "cell_type": "code",
      "source": [
        "data[\"Imdb Score\"] = data[\"Imdb Score\"].str.replace('/10', '')"
      ],
      "metadata": {
        "id": "gA_OmcRdlzSr"
      },
      "execution_count": 44,
      "outputs": []
    },
    {
      "cell_type": "code",
      "source": [
        "data[\"Imdb Score\"]"
      ],
      "metadata": {
        "colab": {
          "base_uri": "https://localhost:8080/"
        },
        "id": "xrO3HpLkl8UO",
        "outputId": "8612402e-63db-45a7-9c4b-0e5b5a37600e"
      },
      "execution_count": 48,
      "outputs": [
        {
          "output_type": "execute_result",
          "data": {
            "text/plain": [
              "0       6.6\n",
              "1       6.2\n",
              "2       6.4\n",
              "3       6.6\n",
              "4       5.1\n",
              "       ... \n",
              "5958    6.7\n",
              "5960    7.1\n",
              "5961    7.4\n",
              "5962    7.4\n",
              "5965    6.5\n",
              "Name: Imdb Score, Length: 5249, dtype: object"
            ]
          },
          "metadata": {},
          "execution_count": 48
        }
      ]
    },
    {
      "cell_type": "code",
      "source": [
        "data[\"Imdb Score\"] = data[\"Imdb Score\"].apply(pd.to_numeric)"
      ],
      "metadata": {
        "colab": {
          "base_uri": "https://localhost:8080/"
        },
        "id": "2TUQ7wndd_KN",
        "outputId": "c538503e-2517-46b7-e7d6-e2be64f3fd2d"
      },
      "execution_count": 50,
      "outputs": [
        {
          "output_type": "stream",
          "name": "stderr",
          "text": [
            "/usr/local/lib/python3.7/dist-packages/ipykernel_launcher.py:1: SettingWithCopyWarning: \n",
            "A value is trying to be set on a copy of a slice from a DataFrame.\n",
            "Try using .loc[row_indexer,col_indexer] = value instead\n",
            "\n",
            "See the caveats in the documentation: https://pandas.pydata.org/pandas-docs/stable/user_guide/indexing.html#returning-a-view-versus-a-copy\n",
            "  \"\"\"Entry point for launching an IPython kernel.\n"
          ]
        }
      ]
    },
    {
      "cell_type": "code",
      "source": [
        "sample = data.sample(n=150)"
      ],
      "metadata": {
        "id": "xUXjPyhofWOs"
      },
      "execution_count": 51,
      "outputs": []
    },
    {
      "cell_type": "code",
      "source": [
        "fig = plt.figure(figsize=(20, 4))\n",
        "ax = plt.axes()\n",
        "plt.title('Distribution of Production Country')\n",
        "sns.histplot(sample['Production Country'], kde=True)\n",
        "for tick in ax.get_xticklabels():\n",
        "    tick.set_rotation(45)\n",
        "plt.xlabel('country')\n",
        "plt.ylabel('number of production')"
      ],
      "metadata": {
        "colab": {
          "base_uri": "https://localhost:8080/",
          "height": 378
        },
        "id": "54ti-GPzmTU8",
        "outputId": "ae31d40b-7fb1-40a2-c9a7-6ee97f703305"
      },
      "execution_count": 52,
      "outputs": [
        {
          "output_type": "execute_result",
          "data": {
            "text/plain": [
              "Text(0, 0.5, 'number of production')"
            ]
          },
          "metadata": {},
          "execution_count": 52
        },
        {
          "output_type": "display_data",
          "data": {
            "text/plain": [
              "<Figure size 1440x288 with 1 Axes>"
            ],
            "image/png": "[encoded data removed]"
          },
          "metadata": {
            "needs_background": "light"
          }
        }
      ]
    },
    {
      "cell_type": "code",
      "source": [
        "plt.boxplot(data['Imdb Score'], 0,'o',showbox=True,\n",
        "            showfliers=True, showcaps=True, showmeans=True)"
      ],
      "metadata": {
        "colab": {
          "base_uri": "https://localhost:8080/",
          "height": 404
        },
        "id": "0DEpogo-mXSp",
        "outputId": "b5d375f9-112f-4e38-cb01-c7275d679ded"
      },
      "execution_count": 55,
      "outputs": [
        {
          "output_type": "execute_result",
          "data": {
            "text/plain": [
              "{'whiskers': [<matplotlib.lines.Line2D at 0x7ffa5a861290>,\n",
              "  <matplotlib.lines.Line2D at 0x7ffa5a8617d0>],\n",
              " 'caps': [<matplotlib.lines.Line2D at 0x7ffa5a861d10>,\n",
              "  <matplotlib.lines.Line2D at 0x7ffa5a866290>],\n",
              " 'boxes': [<matplotlib.lines.Line2D at 0x7ffa5a85bcd0>],\n",
              " 'medians': [<matplotlib.lines.Line2D at 0x7ffa5a866810>],\n",
              " 'fliers': [<matplotlib.lines.Line2D at 0x7ffa5a86d2d0>],\n",
              " 'means': [<matplotlib.lines.Line2D at 0x7ffa5a866d50>]}"
            ]
          },
          "metadata": {},
          "execution_count": 55
        },
        {
          "output_type": "display_data",
          "data": {
            "text/plain": [
              "<Figure size 432x288 with 1 Axes>"
            ],
            "image/png": "[encoded data removed]"
          },
          "metadata": {
            "needs_background": "light"
          }
        }
      ]
    },
    {
      "cell_type": "code",
      "source": [
        "fig = plt.figure(figsize=(20, 4))\n",
        "ax = plt.axes()\n",
        "plt.title('Imdb Score')\n",
        "sns.histplot(sample['Imdb Score'], kde=True)\n",
        "plt.xlabel('Imdb Score')\n",
        "plt.ylabel('number')\n",
        "plt.text(3,7, 'Skewness coeff. is:' + str(data['Imdb Score'].skew()))"
      ],
      "metadata": {
        "colab": {
          "base_uri": "https://localhost:8080/",
          "height": 277
        },
        "id": "EtZ_jZUumg3Z",
        "outputId": "aa0f8fc6-abed-42c5-d2ad-3e82db89b7de"
      },
      "execution_count": 54,
      "outputs": [
        {
          "output_type": "execute_result",
          "data": {
            "text/plain": [
              "Text(3, 7, 'Skewness coeff. is:-0.627501671857504')"
            ]
          },
          "metadata": {},
          "execution_count": 54
        },
        {
          "output_type": "display_data",
          "data": {
            "text/plain": [
              "<Figure size 1440x288 with 1 Axes>"
            ],
            "image/png": "[encoded data removed]"
          },
          "metadata": {
            "needs_background": "light"
          }
        }
      ]
    },
    {
      "cell_type": "code",
      "source": [
        "#import warning\n",
        "\n",
        "import warnings\n",
        "warnings.simplefilter('ignore')\n",
        "fig = plt.figure(figsize=(5, 5))\n",
        "ax=plt.axes()\n",
        "sns.countplot(sample['Content Type'])"
      ],
      "metadata": {
        "colab": {
          "base_uri": "https://localhost:8080/",
          "height": 351
        },
        "id": "tuWWkj4wnTcT",
        "outputId": "bcd960fe-b1c7-42a7-824b-3ba2ae73cd92"
      },
      "execution_count": 57,
      "outputs": [
        {
          "output_type": "execute_result",
          "data": {
            "text/plain": [
              "<matplotlib.axes._subplots.AxesSubplot at 0x7ffa5a7f97d0>"
            ]
          },
          "metadata": {},
          "execution_count": 57
        },
        {
          "output_type": "display_data",
          "data": {
            "text/plain": [
              "<Figure size 360x360 with 1 Axes>"
            ],
            "image/png": "[encoded data removed]"
          },
          "metadata": {
            "needs_background": "light"
          }
        }
      ]
    },
    {
      "cell_type": "code",
      "source": [
        "pd.crosstab(index=sample['Content Type'], columns=[sample['Imdb Score']],\n",
        "            margins=True).style.background_gradient(cmap='YlGn')"
      ],
      "metadata": {
        "colab": {
          "base_uri": "https://localhost:8080/",
          "height": 247
        },
        "id": "VOcY9os5n6yF",
        "outputId": "321e49c9-7bff-47cc-c9a8-e71028dc7a0b"
      },
      "execution_count": 64,
      "outputs": [
        {
          "output_type": "execute_result",
          "data": {
            "text/plain": [
              "<pandas.io.formats.style.Styler at 0x7ffa5c61e110>"
            ],
            "text/html": [
              "<style type=\"text/css\">\n",
              "#T_dd9cf_row0_col0, #T_dd9cf_row0_col1, #T_dd9cf_row0_col2, #T_dd9cf_row0_col3, #T_dd9cf_row0_col4, #T_dd9cf_row0_col5, #T_dd9cf_row0_col6, #T_dd9cf_row0_col8, #T_dd9cf_row0_col9, #T_dd9cf_row0_col11, #T_dd9cf_row0_col12, #T_dd9cf_row0_col13, #T_dd9cf_row0_col15, #T_dd9cf_row0_col18, #T_dd9cf_row0_col19, #T_dd9cf_row0_col20, #T_dd9cf_row0_col21, #T_dd9cf_row1_col7, #T_dd9cf_row1_col37, #T_dd9cf_row1_col40, #T_dd9cf_row2_col0, #T_dd9cf_row2_col1, #T_dd9cf_row2_col2, #T_dd9cf_row2_col3, #T_dd9cf_row2_col4, #T_dd9cf_row2_col5, #T_dd9cf_row2_col6, #T_dd9cf_row2_col7, #T_dd9cf_row2_col8, #T_dd9cf_row2_col9, #T_dd9cf_row2_col10, #T_dd9cf_row2_col11, #T_dd9cf_row2_col12, #T_dd9cf_row2_col13, #T_dd9cf_row2_col14, #T_dd9cf_row2_col15, #T_dd9cf_row2_col16, #T_dd9cf_row2_col17, #T_dd9cf_row2_col18, #T_dd9cf_row2_col19, #T_dd9cf_row2_col20, #T_dd9cf_row2_col21, #T_dd9cf_row2_col22, #T_dd9cf_row2_col23, #T_dd9cf_row2_col24, #T_dd9cf_row2_col25, #T_dd9cf_row2_col26, #T_dd9cf_row2_col27, #T_dd9cf_row2_col28, #T_dd9cf_row2_col29, #T_dd9cf_row2_col30, #T_dd9cf_row2_col31, #T_dd9cf_row2_col32, #T_dd9cf_row2_col33, #T_dd9cf_row2_col34, #T_dd9cf_row2_col35, #T_dd9cf_row2_col36, #T_dd9cf_row2_col37, #T_dd9cf_row2_col38, #T_dd9cf_row2_col39, #T_dd9cf_row2_col40, #T_dd9cf_row2_col41, #T_dd9cf_row2_col42 {\n",
              "  background-color: #004529;\n",
              "  color: #f1f1f1;\n",
              "}\n",
              "#T_dd9cf_row0_col7, #T_dd9cf_row0_col14, #T_dd9cf_row0_col22, #T_dd9cf_row0_col27, #T_dd9cf_row0_col31, #T_dd9cf_row0_col33, #T_dd9cf_row0_col34, #T_dd9cf_row0_col36, #T_dd9cf_row0_col37, #T_dd9cf_row0_col38, #T_dd9cf_row0_col39, #T_dd9cf_row0_col40, #T_dd9cf_row0_col41, #T_dd9cf_row1_col0, #T_dd9cf_row1_col1, #T_dd9cf_row1_col2, #T_dd9cf_row1_col3, #T_dd9cf_row1_col4, #T_dd9cf_row1_col5, #T_dd9cf_row1_col6, #T_dd9cf_row1_col8, #T_dd9cf_row1_col9, #T_dd9cf_row1_col10, #T_dd9cf_row1_col11, #T_dd9cf_row1_col12, #T_dd9cf_row1_col13, #T_dd9cf_row1_col14, #T_dd9cf_row1_col15, #T_dd9cf_row1_col16, #T_dd9cf_row1_col17, #T_dd9cf_row1_col18, #T_dd9cf_row1_col19, #T_dd9cf_row1_col20, #T_dd9cf_row1_col21, #T_dd9cf_row1_col23, #T_dd9cf_row1_col24, #T_dd9cf_row1_col25, #T_dd9cf_row1_col26, #T_dd9cf_row1_col27, #T_dd9cf_row1_col28, #T_dd9cf_row1_col29, #T_dd9cf_row1_col30, #T_dd9cf_row1_col31, #T_dd9cf_row1_col32, #T_dd9cf_row1_col33, #T_dd9cf_row1_col35, #T_dd9cf_row1_col36, #T_dd9cf_row1_col41, #T_dd9cf_row1_col42 {\n",
              "  background-color: #ffffe5;\n",
              "  color: #000000;\n",
              "}\n",
              "#T_dd9cf_row0_col10, #T_dd9cf_row0_col16, #T_dd9cf_row0_col30, #T_dd9cf_row1_col34 {\n",
              "  background-color: #379e54;\n",
              "  color: #f1f1f1;\n",
              "}\n",
              "#T_dd9cf_row0_col17 {\n",
              "  background-color: #0b713b;\n",
              "  color: #f1f1f1;\n",
              "}\n",
              "#T_dd9cf_row0_col23, #T_dd9cf_row0_col25, #T_dd9cf_row0_col35, #T_dd9cf_row1_col22, #T_dd9cf_row1_col38, #T_dd9cf_row1_col39 {\n",
              "  background-color: #77c679;\n",
              "  color: #000000;\n",
              "}\n",
              "#T_dd9cf_row0_col24 {\n",
              "  background-color: #4cb063;\n",
              "  color: #f1f1f1;\n",
              "}\n",
              "#T_dd9cf_row0_col26 {\n",
              "  background-color: #bce395;\n",
              "  color: #000000;\n",
              "}\n",
              "#T_dd9cf_row0_col28 {\n",
              "  background-color: #056c39;\n",
              "  color: #f1f1f1;\n",
              "}\n",
              "#T_dd9cf_row0_col29 {\n",
              "  background-color: #15793e;\n",
              "  color: #f1f1f1;\n",
              "}\n",
              "#T_dd9cf_row0_col32 {\n",
              "  background-color: #e5f5ac;\n",
              "  color: #000000;\n",
              "}\n",
              "#T_dd9cf_row0_col42 {\n",
              "  background-color: #53b466;\n",
              "  color: #f1f1f1;\n",
              "}\n",
              "</style>\n",
              "<table id=\"T_dd9cf_\" class=\"dataframe\">\n",
              "  <thead>\n",
              "    <tr>\n",
              "      <th class=\"index_name level0\" >Imdb Score</th>\n",
              "      <th class=\"col_heading level0 col0\" >3.0</th>\n",
              "      <th class=\"col_heading level0 col1\" >4.1</th>\n",
              "      <th class=\"col_heading level0 col2\" >4.3</th>\n",
              "      <th class=\"col_heading level0 col3\" >4.6</th>\n",
              "      <th class=\"col_heading level0 col4\" >4.7</th>\n",
              "      <th class=\"col_heading level0 col5\" >4.8</th>\n",
              "      <th class=\"col_heading level0 col6\" >5.0</th>\n",
              "      <th class=\"col_heading level0 col7\" >5.1</th>\n",
              "      <th class=\"col_heading level0 col8\" >5.2</th>\n",
              "      <th class=\"col_heading level0 col9\" >5.3</th>\n",
              "      <th class=\"col_heading level0 col10\" >5.4</th>\n",
              "      <th class=\"col_heading level0 col11\" >5.5</th>\n",
              "      <th class=\"col_heading level0 col12\" >5.6</th>\n",
              "      <th class=\"col_heading level0 col13\" >5.7</th>\n",
              "      <th class=\"col_heading level0 col14\" >5.8</th>\n",
              "      <th class=\"col_heading level0 col15\" >5.9</th>\n",
              "      <th class=\"col_heading level0 col16\" >6.0</th>\n",
              "      <th class=\"col_heading level0 col17\" >6.1</th>\n",
              "      <th class=\"col_heading level0 col18\" >6.2</th>\n",
              "      <th class=\"col_heading level0 col19\" >6.3</th>\n",
              "      <th class=\"col_heading level0 col20\" >6.4</th>\n",
              "      <th class=\"col_heading level0 col21\" >6.5</th>\n",
              "      <th class=\"col_heading level0 col22\" >6.6</th>\n",
              "      <th class=\"col_heading level0 col23\" >6.7</th>\n",
              "      <th class=\"col_heading level0 col24\" >6.8</th>\n",
              "      <th class=\"col_heading level0 col25\" >6.9</th>\n",
              "      <th class=\"col_heading level0 col26\" >7.0</th>\n",
              "      <th class=\"col_heading level0 col27\" >7.1</th>\n",
              "      <th class=\"col_heading level0 col28\" >7.2</th>\n",
              "      <th class=\"col_heading level0 col29\" >7.3</th>\n",
              "      <th class=\"col_heading level0 col30\" >7.4</th>\n",
              "      <th class=\"col_heading level0 col31\" >7.5</th>\n",
              "      <th class=\"col_heading level0 col32\" >7.6</th>\n",
              "      <th class=\"col_heading level0 col33\" >7.7</th>\n",
              "      <th class=\"col_heading level0 col34\" >7.8</th>\n",
              "      <th class=\"col_heading level0 col35\" >7.9</th>\n",
              "      <th class=\"col_heading level0 col36\" >8.0</th>\n",
              "      <th class=\"col_heading level0 col37\" >8.1</th>\n",
              "      <th class=\"col_heading level0 col38\" >8.2</th>\n",
              "      <th class=\"col_heading level0 col39\" >8.3</th>\n",
              "      <th class=\"col_heading level0 col40\" >8.5</th>\n",
              "      <th class=\"col_heading level0 col41\" >8.6</th>\n",
              "      <th class=\"col_heading level0 col42\" >All</th>\n",
              "    </tr>\n",
              "    <tr>\n",
              "      <th class=\"index_name level0\" >Content Type</th>\n",
              "      <th class=\"blank col0\" >&nbsp;</th>\n",
              "      <th class=\"blank col1\" >&nbsp;</th>\n",
              "      <th class=\"blank col2\" >&nbsp;</th>\n",
              "      <th class=\"blank col3\" >&nbsp;</th>\n",
              "      <th class=\"blank col4\" >&nbsp;</th>\n",
              "      <th class=\"blank col5\" >&nbsp;</th>\n",
              "      <th class=\"blank col6\" >&nbsp;</th>\n",
              "      <th class=\"blank col7\" >&nbsp;</th>\n",
              "      <th class=\"blank col8\" >&nbsp;</th>\n",
              "      <th class=\"blank col9\" >&nbsp;</th>\n",
              "      <th class=\"blank col10\" >&nbsp;</th>\n",
              "      <th class=\"blank col11\" >&nbsp;</th>\n",
              "      <th class=\"blank col12\" >&nbsp;</th>\n",
              "      <th class=\"blank col13\" >&nbsp;</th>\n",
              "      <th class=\"blank col14\" >&nbsp;</th>\n",
              "      <th class=\"blank col15\" >&nbsp;</th>\n",
              "      <th class=\"blank col16\" >&nbsp;</th>\n",
              "      <th class=\"blank col17\" >&nbsp;</th>\n",
              "      <th class=\"blank col18\" >&nbsp;</th>\n",
              "      <th class=\"blank col19\" >&nbsp;</th>\n",
              "      <th class=\"blank col20\" >&nbsp;</th>\n",
              "      <th class=\"blank col21\" >&nbsp;</th>\n",
              "      <th class=\"blank col22\" >&nbsp;</th>\n",
              "      <th class=\"blank col23\" >&nbsp;</th>\n",
              "      <th class=\"blank col24\" >&nbsp;</th>\n",
              "      <th class=\"blank col25\" >&nbsp;</th>\n",
              "      <th class=\"blank col26\" >&nbsp;</th>\n",
              "      <th class=\"blank col27\" >&nbsp;</th>\n",
              "      <th class=\"blank col28\" >&nbsp;</th>\n",
              "      <th class=\"blank col29\" >&nbsp;</th>\n",
              "      <th class=\"blank col30\" >&nbsp;</th>\n",
              "      <th class=\"blank col31\" >&nbsp;</th>\n",
              "      <th class=\"blank col32\" >&nbsp;</th>\n",
              "      <th class=\"blank col33\" >&nbsp;</th>\n",
              "      <th class=\"blank col34\" >&nbsp;</th>\n",
              "      <th class=\"blank col35\" >&nbsp;</th>\n",
              "      <th class=\"blank col36\" >&nbsp;</th>\n",
              "      <th class=\"blank col37\" >&nbsp;</th>\n",
              "      <th class=\"blank col38\" >&nbsp;</th>\n",
              "      <th class=\"blank col39\" >&nbsp;</th>\n",
              "      <th class=\"blank col40\" >&nbsp;</th>\n",
              "      <th class=\"blank col41\" >&nbsp;</th>\n",
              "      <th class=\"blank col42\" >&nbsp;</th>\n",
              "    </tr>\n",
              "  </thead>\n",
              "  <tbody>\n",
              "    <tr>\n",
              "      <th id=\"T_dd9cf_level0_row0\" class=\"row_heading level0 row0\" >Movie</th>\n",
              "      <td id=\"T_dd9cf_row0_col0\" class=\"data row0 col0\" >1</td>\n",
              "      <td id=\"T_dd9cf_row0_col1\" class=\"data row0 col1\" >1</td>\n",
              "      <td id=\"T_dd9cf_row0_col2\" class=\"data row0 col2\" >1</td>\n",
              "      <td id=\"T_dd9cf_row0_col3\" class=\"data row0 col3\" >4</td>\n",
              "      <td id=\"T_dd9cf_row0_col4\" class=\"data row0 col4\" >1</td>\n",
              "      <td id=\"T_dd9cf_row0_col5\" class=\"data row0 col5\" >1</td>\n",
              "      <td id=\"T_dd9cf_row0_col6\" class=\"data row0 col6\" >1</td>\n",
              "      <td id=\"T_dd9cf_row0_col7\" class=\"data row0 col7\" >0</td>\n",
              "      <td id=\"T_dd9cf_row0_col8\" class=\"data row0 col8\" >2</td>\n",
              "      <td id=\"T_dd9cf_row0_col9\" class=\"data row0 col9\" >2</td>\n",
              "      <td id=\"T_dd9cf_row0_col10\" class=\"data row0 col10\" >3</td>\n",
              "      <td id=\"T_dd9cf_row0_col11\" class=\"data row0 col11\" >1</td>\n",
              "      <td id=\"T_dd9cf_row0_col12\" class=\"data row0 col12\" >3</td>\n",
              "      <td id=\"T_dd9cf_row0_col13\" class=\"data row0 col13\" >3</td>\n",
              "      <td id=\"T_dd9cf_row0_col14\" class=\"data row0 col14\" >1</td>\n",
              "      <td id=\"T_dd9cf_row0_col15\" class=\"data row0 col15\" >3</td>\n",
              "      <td id=\"T_dd9cf_row0_col16\" class=\"data row0 col16\" >3</td>\n",
              "      <td id=\"T_dd9cf_row0_col17\" class=\"data row0 col17\" >6</td>\n",
              "      <td id=\"T_dd9cf_row0_col18\" class=\"data row0 col18\" >3</td>\n",
              "      <td id=\"T_dd9cf_row0_col19\" class=\"data row0 col19\" >5</td>\n",
              "      <td id=\"T_dd9cf_row0_col20\" class=\"data row0 col20\" >2</td>\n",
              "      <td id=\"T_dd9cf_row0_col21\" class=\"data row0 col21\" >9</td>\n",
              "      <td id=\"T_dd9cf_row0_col22\" class=\"data row0 col22\" >1</td>\n",
              "      <td id=\"T_dd9cf_row0_col23\" class=\"data row0 col23\" >2</td>\n",
              "      <td id=\"T_dd9cf_row0_col24\" class=\"data row0 col24\" >5</td>\n",
              "      <td id=\"T_dd9cf_row0_col25\" class=\"data row0 col25\" >6</td>\n",
              "      <td id=\"T_dd9cf_row0_col26\" class=\"data row0 col26\" >3</td>\n",
              "      <td id=\"T_dd9cf_row0_col27\" class=\"data row0 col27\" >3</td>\n",
              "      <td id=\"T_dd9cf_row0_col28\" class=\"data row0 col28\" >7</td>\n",
              "      <td id=\"T_dd9cf_row0_col29\" class=\"data row0 col29\" >5</td>\n",
              "      <td id=\"T_dd9cf_row0_col30\" class=\"data row0 col30\" >3</td>\n",
              "      <td id=\"T_dd9cf_row0_col31\" class=\"data row0 col31\" >1</td>\n",
              "      <td id=\"T_dd9cf_row0_col32\" class=\"data row0 col32\" >5</td>\n",
              "      <td id=\"T_dd9cf_row0_col33\" class=\"data row0 col33\" >2</td>\n",
              "      <td id=\"T_dd9cf_row0_col34\" class=\"data row0 col34\" >1</td>\n",
              "      <td id=\"T_dd9cf_row0_col35\" class=\"data row0 col35\" >2</td>\n",
              "      <td id=\"T_dd9cf_row0_col36\" class=\"data row0 col36\" >1</td>\n",
              "      <td id=\"T_dd9cf_row0_col37\" class=\"data row0 col37\" >0</td>\n",
              "      <td id=\"T_dd9cf_row0_col38\" class=\"data row0 col38\" >1</td>\n",
              "      <td id=\"T_dd9cf_row0_col39\" class=\"data row0 col39\" >1</td>\n",
              "      <td id=\"T_dd9cf_row0_col40\" class=\"data row0 col40\" >0</td>\n",
              "      <td id=\"T_dd9cf_row0_col41\" class=\"data row0 col41\" >1</td>\n",
              "      <td id=\"T_dd9cf_row0_col42\" class=\"data row0 col42\" >106</td>\n",
              "    </tr>\n",
              "    <tr>\n",
              "      <th id=\"T_dd9cf_level0_row1\" class=\"row_heading level0 row1\" >TV Show</th>\n",
              "      <td id=\"T_dd9cf_row1_col0\" class=\"data row1 col0\" >0</td>\n",
              "      <td id=\"T_dd9cf_row1_col1\" class=\"data row1 col1\" >0</td>\n",
              "      <td id=\"T_dd9cf_row1_col2\" class=\"data row1 col2\" >0</td>\n",
              "      <td id=\"T_dd9cf_row1_col3\" class=\"data row1 col3\" >0</td>\n",
              "      <td id=\"T_dd9cf_row1_col4\" class=\"data row1 col4\" >0</td>\n",
              "      <td id=\"T_dd9cf_row1_col5\" class=\"data row1 col5\" >0</td>\n",
              "      <td id=\"T_dd9cf_row1_col6\" class=\"data row1 col6\" >0</td>\n",
              "      <td id=\"T_dd9cf_row1_col7\" class=\"data row1 col7\" >1</td>\n",
              "      <td id=\"T_dd9cf_row1_col8\" class=\"data row1 col8\" >0</td>\n",
              "      <td id=\"T_dd9cf_row1_col9\" class=\"data row1 col9\" >0</td>\n",
              "      <td id=\"T_dd9cf_row1_col10\" class=\"data row1 col10\" >1</td>\n",
              "      <td id=\"T_dd9cf_row1_col11\" class=\"data row1 col11\" >0</td>\n",
              "      <td id=\"T_dd9cf_row1_col12\" class=\"data row1 col12\" >0</td>\n",
              "      <td id=\"T_dd9cf_row1_col13\" class=\"data row1 col13\" >0</td>\n",
              "      <td id=\"T_dd9cf_row1_col14\" class=\"data row1 col14\" >1</td>\n",
              "      <td id=\"T_dd9cf_row1_col15\" class=\"data row1 col15\" >0</td>\n",
              "      <td id=\"T_dd9cf_row1_col16\" class=\"data row1 col16\" >1</td>\n",
              "      <td id=\"T_dd9cf_row1_col17\" class=\"data row1 col17\" >1</td>\n",
              "      <td id=\"T_dd9cf_row1_col18\" class=\"data row1 col18\" >0</td>\n",
              "      <td id=\"T_dd9cf_row1_col19\" class=\"data row1 col19\" >0</td>\n",
              "      <td id=\"T_dd9cf_row1_col20\" class=\"data row1 col20\" >0</td>\n",
              "      <td id=\"T_dd9cf_row1_col21\" class=\"data row1 col21\" >0</td>\n",
              "      <td id=\"T_dd9cf_row1_col22\" class=\"data row1 col22\" >2</td>\n",
              "      <td id=\"T_dd9cf_row1_col23\" class=\"data row1 col23\" >1</td>\n",
              "      <td id=\"T_dd9cf_row1_col24\" class=\"data row1 col24\" >2</td>\n",
              "      <td id=\"T_dd9cf_row1_col25\" class=\"data row1 col25\" >3</td>\n",
              "      <td id=\"T_dd9cf_row1_col26\" class=\"data row1 col26\" >2</td>\n",
              "      <td id=\"T_dd9cf_row1_col27\" class=\"data row1 col27\" >3</td>\n",
              "      <td id=\"T_dd9cf_row1_col28\" class=\"data row1 col28\" >1</td>\n",
              "      <td id=\"T_dd9cf_row1_col29\" class=\"data row1 col29\" >1</td>\n",
              "      <td id=\"T_dd9cf_row1_col30\" class=\"data row1 col30\" >1</td>\n",
              "      <td id=\"T_dd9cf_row1_col31\" class=\"data row1 col31\" >1</td>\n",
              "      <td id=\"T_dd9cf_row1_col32\" class=\"data row1 col32\" >4</td>\n",
              "      <td id=\"T_dd9cf_row1_col33\" class=\"data row1 col33\" >2</td>\n",
              "      <td id=\"T_dd9cf_row1_col34\" class=\"data row1 col34\" >3</td>\n",
              "      <td id=\"T_dd9cf_row1_col35\" class=\"data row1 col35\" >1</td>\n",
              "      <td id=\"T_dd9cf_row1_col36\" class=\"data row1 col36\" >1</td>\n",
              "      <td id=\"T_dd9cf_row1_col37\" class=\"data row1 col37\" >2</td>\n",
              "      <td id=\"T_dd9cf_row1_col38\" class=\"data row1 col38\" >2</td>\n",
              "      <td id=\"T_dd9cf_row1_col39\" class=\"data row1 col39\" >2</td>\n",
              "      <td id=\"T_dd9cf_row1_col40\" class=\"data row1 col40\" >4</td>\n",
              "      <td id=\"T_dd9cf_row1_col41\" class=\"data row1 col41\" >1</td>\n",
              "      <td id=\"T_dd9cf_row1_col42\" class=\"data row1 col42\" >44</td>\n",
              "    </tr>\n",
              "    <tr>\n",
              "      <th id=\"T_dd9cf_level0_row2\" class=\"row_heading level0 row2\" >All</th>\n",
              "      <td id=\"T_dd9cf_row2_col0\" class=\"data row2 col0\" >1</td>\n",
              "      <td id=\"T_dd9cf_row2_col1\" class=\"data row2 col1\" >1</td>\n",
              "      <td id=\"T_dd9cf_row2_col2\" class=\"data row2 col2\" >1</td>\n",
              "      <td id=\"T_dd9cf_row2_col3\" class=\"data row2 col3\" >4</td>\n",
              "      <td id=\"T_dd9cf_row2_col4\" class=\"data row2 col4\" >1</td>\n",
              "      <td id=\"T_dd9cf_row2_col5\" class=\"data row2 col5\" >1</td>\n",
              "      <td id=\"T_dd9cf_row2_col6\" class=\"data row2 col6\" >1</td>\n",
              "      <td id=\"T_dd9cf_row2_col7\" class=\"data row2 col7\" >1</td>\n",
              "      <td id=\"T_dd9cf_row2_col8\" class=\"data row2 col8\" >2</td>\n",
              "      <td id=\"T_dd9cf_row2_col9\" class=\"data row2 col9\" >2</td>\n",
              "      <td id=\"T_dd9cf_row2_col10\" class=\"data row2 col10\" >4</td>\n",
              "      <td id=\"T_dd9cf_row2_col11\" class=\"data row2 col11\" >1</td>\n",
              "      <td id=\"T_dd9cf_row2_col12\" class=\"data row2 col12\" >3</td>\n",
              "      <td id=\"T_dd9cf_row2_col13\" class=\"data row2 col13\" >3</td>\n",
              "      <td id=\"T_dd9cf_row2_col14\" class=\"data row2 col14\" >2</td>\n",
              "      <td id=\"T_dd9cf_row2_col15\" class=\"data row2 col15\" >3</td>\n",
              "      <td id=\"T_dd9cf_row2_col16\" class=\"data row2 col16\" >4</td>\n",
              "      <td id=\"T_dd9cf_row2_col17\" class=\"data row2 col17\" >7</td>\n",
              "      <td id=\"T_dd9cf_row2_col18\" class=\"data row2 col18\" >3</td>\n",
              "      <td id=\"T_dd9cf_row2_col19\" class=\"data row2 col19\" >5</td>\n",
              "      <td id=\"T_dd9cf_row2_col20\" class=\"data row2 col20\" >2</td>\n",
              "      <td id=\"T_dd9cf_row2_col21\" class=\"data row2 col21\" >9</td>\n",
              "      <td id=\"T_dd9cf_row2_col22\" class=\"data row2 col22\" >3</td>\n",
              "      <td id=\"T_dd9cf_row2_col23\" class=\"data row2 col23\" >3</td>\n",
              "      <td id=\"T_dd9cf_row2_col24\" class=\"data row2 col24\" >7</td>\n",
              "      <td id=\"T_dd9cf_row2_col25\" class=\"data row2 col25\" >9</td>\n",
              "      <td id=\"T_dd9cf_row2_col26\" class=\"data row2 col26\" >5</td>\n",
              "      <td id=\"T_dd9cf_row2_col27\" class=\"data row2 col27\" >6</td>\n",
              "      <td id=\"T_dd9cf_row2_col28\" class=\"data row2 col28\" >8</td>\n",
              "      <td id=\"T_dd9cf_row2_col29\" class=\"data row2 col29\" >6</td>\n",
              "      <td id=\"T_dd9cf_row2_col30\" class=\"data row2 col30\" >4</td>\n",
              "      <td id=\"T_dd9cf_row2_col31\" class=\"data row2 col31\" >2</td>\n",
              "      <td id=\"T_dd9cf_row2_col32\" class=\"data row2 col32\" >9</td>\n",
              "      <td id=\"T_dd9cf_row2_col33\" class=\"data row2 col33\" >4</td>\n",
              "      <td id=\"T_dd9cf_row2_col34\" class=\"data row2 col34\" >4</td>\n",
              "      <td id=\"T_dd9cf_row2_col35\" class=\"data row2 col35\" >3</td>\n",
              "      <td id=\"T_dd9cf_row2_col36\" class=\"data row2 col36\" >2</td>\n",
              "      <td id=\"T_dd9cf_row2_col37\" class=\"data row2 col37\" >2</td>\n",
              "      <td id=\"T_dd9cf_row2_col38\" class=\"data row2 col38\" >3</td>\n",
              "      <td id=\"T_dd9cf_row2_col39\" class=\"data row2 col39\" >3</td>\n",
              "      <td id=\"T_dd9cf_row2_col40\" class=\"data row2 col40\" >4</td>\n",
              "      <td id=\"T_dd9cf_row2_col41\" class=\"data row2 col41\" >2</td>\n",
              "      <td id=\"T_dd9cf_row2_col42\" class=\"data row2 col42\" >150</td>\n",
              "    </tr>\n",
              "  </tbody>\n",
              "</table>\n"
            ]
          },
          "metadata": {},
          "execution_count": 64
        }
      ]
    },
    {
      "cell_type": "code",
      "source": [
        "pd.DataFrame(data.groupby('Production Country')['Imdb Score'].mean()).sort_values(ascending=False, by='Imdb Score')"
      ],
      "metadata": {
        "colab": {
          "base_uri": "https://localhost:8080/",
          "height": 455
        },
        "id": "Bw5IPjbVoM8c",
        "outputId": "ccba44a9-771e-4225-e880-a218509bb0f4"
      },
      "execution_count": 65,
      "outputs": [
        {
          "output_type": "execute_result",
          "data": {
            "text/plain": [
              "                                                    Imdb Score\n",
              "Production Country                                            \n",
              "Ireland, United States, United Kingdom                     8.7\n",
              "United States, Colombia, Mexico                            8.7\n",
              "United Kingdom, United States, Japan                       8.6\n",
              "United Kingdom, France, Poland, Germany, United...         8.6\n",
              "Romania, United Kingdom                                    8.6\n",
              "...                                                        ...\n",
              "Jordan                                                     3.4\n",
              "United States, India, South Korea, China                   3.3\n",
              "Bulgaria                                                   3.2\n",
              "Saudi Arabia, United Arab Emirates                         3.2\n",
              "Turkey, India                                              2.5\n",
              "\n",
              "[507 rows x 1 columns]"
            ],
            "text/html": [
              "\n",
              "  <div id=\"df-f02c5295-5e94-4b3b-86b0-29be920d701f\">\n",
              "    <div class=\"colab-df-container\">\n",
              "      <div>\n",
              "<style scoped>\n",
              "    .dataframe tbody tr th:only-of-type {\n",
              "        vertical-align: middle;\n",
              "    }\n",
              "\n",
              "    .dataframe tbody tr th {\n",
              "        vertical-align: top;\n",
              "    }\n",
              "\n",
              "    .dataframe thead th {\n",
              "        text-align: right;\n",
              "    }\n",
              "</style>\n",
              "<table border=\"1\" class=\"dataframe\">\n",
              "  <thead>\n",
              "    <tr style=\"text-align: right;\">\n",
              "      <th></th>\n",
              "      <th>Imdb Score</th>\n",
              "    </tr>\n",
              "    <tr>\n",
              "      <th>Production Country</th>\n",
              "      <th></th>\n",
              "    </tr>\n",
              "  </thead>\n",
              "  <tbody>\n",
              "    <tr>\n",
              "      <th>Ireland, United States, United Kingdom</th>\n",
              "      <td>8.7</td>\n",
              "    </tr>\n",
              "    <tr>\n",
              "      <th>United States, Colombia, Mexico</th>\n",
              "      <td>8.7</td>\n",
              "    </tr>\n",
              "    <tr>\n",
              "      <th>United Kingdom, United States, Japan</th>\n",
              "      <td>8.6</td>\n",
              "    </tr>\n",
              "    <tr>\n",
              "      <th>United Kingdom, France, Poland, Germany, United States</th>\n",
              "      <td>8.6</td>\n",
              "    </tr>\n",
              "    <tr>\n",
              "      <th>Romania, United Kingdom</th>\n",
              "      <td>8.6</td>\n",
              "    </tr>\n",
              "    <tr>\n",
              "      <th>...</th>\n",
              "      <td>...</td>\n",
              "    </tr>\n",
              "    <tr>\n",
              "      <th>Jordan</th>\n",
              "      <td>3.4</td>\n",
              "    </tr>\n",
              "    <tr>\n",
              "      <th>United States, India, South Korea, China</th>\n",
              "      <td>3.3</td>\n",
              "    </tr>\n",
              "    <tr>\n",
              "      <th>Bulgaria</th>\n",
              "      <td>3.2</td>\n",
              "    </tr>\n",
              "    <tr>\n",
              "      <th>Saudi Arabia, United Arab Emirates</th>\n",
              "      <td>3.2</td>\n",
              "    </tr>\n",
              "    <tr>\n",
              "      <th>Turkey, India</th>\n",
              "      <td>2.5</td>\n",
              "    </tr>\n",
              "  </tbody>\n",
              "</table>\n",
              "<p>507 rows × 1 columns</p>\n",
              "</div>\n",
              "      <button class=\"colab-df-convert\" onclick=\"convertToInteractive('df-f02c5295-5e94-4b3b-86b0-29be920d701f')\"\n",
              "              title=\"Convert this dataframe to an interactive table.\"\n",
              "              style=\"display:none;\">\n",
              "        \n",
              "  <svg xmlns=\"http://www.w3.org/2000/svg\" height=\"24px\"viewBox=\"0 0 24 24\"\n",
              "       width=\"24px\">\n",
              "    <path d=\"M0 0h24v24H0V0z\" fill=\"none\"/>\n",
              "    <path d=\"M18.56 5.44l.94 2.06.94-2.06 2.06-.94-2.06-.94-.94-2.06-.94 2.06-2.06.94zm-11 1L8.5 8.5l.94-2.06 2.06-.94-2.06-.94L8.5 2.5l-.94 2.06-2.06.94zm10 10l.94 2.06.94-2.06 2.06-.94-2.06-.94-.94-2.06-.94 2.06-2.06.94z\"/><path d=\"M17.41 7.96l-1.37-1.37c-.4-.4-.92-.59-1.43-.59-.52 0-1.04.2-1.43.59L10.3 9.45l-7.72 7.72c-.78.78-.78 2.05 0 2.83L4 21.41c.39.39.9.59 1.41.59.51 0 1.02-.2 1.41-.59l7.78-7.78 2.81-2.81c.8-.78.8-2.07 0-2.86zM5.41 20L4 18.59l7.72-7.72 1.47 1.35L5.41 20z\"/>\n",
              "  </svg>\n",
              "      </button>\n",
              "      \n",
              "  <style>\n",
              "    .colab-df-container {\n",
              "      display:flex;\n",
              "      flex-wrap:wrap;\n",
              "      gap: 12px;\n",
              "    }\n",
              "\n",
              "    .colab-df-convert {\n",
              "      background-color: #E8F0FE;\n",
              "      border: none;\n",
              "      border-radius: 50%;\n",
              "      cursor: pointer;\n",
              "      display: none;\n",
              "      fill: #1967D2;\n",
              "      height: 32px;\n",
              "      padding: 0 0 0 0;\n",
              "      width: 32px;\n",
              "    }\n",
              "\n",
              "    .colab-df-convert:hover {\n",
              "      background-color: #E2EBFA;\n",
              "      box-shadow: 0px 1px 2px rgba(60, 64, 67, 0.3), 0px 1px 3px 1px rgba(60, 64, 67, 0.15);\n",
              "      fill: #174EA6;\n",
              "    }\n",
              "\n",
              "    [theme=dark] .colab-df-convert {\n",
              "      background-color: #3B4455;\n",
              "      fill: #D2E3FC;\n",
              "    }\n",
              "\n",
              "    [theme=dark] .colab-df-convert:hover {\n",
              "      background-color: #434B5C;\n",
              "      box-shadow: 0px 1px 3px 1px rgba(0, 0, 0, 0.15);\n",
              "      filter: drop-shadow(0px 1px 2px rgba(0, 0, 0, 0.3));\n",
              "      fill: #FFFFFF;\n",
              "    }\n",
              "  </style>\n",
              "\n",
              "      <script>\n",
              "        const buttonEl =\n",
              "          document.querySelector('#df-f02c5295-5e94-4b3b-86b0-29be920d701f button.colab-df-convert');\n",
              "        buttonEl.style.display =\n",
              "          google.colab.kernel.accessAllowed ? 'block' : 'none';\n",
              "\n",
              "        async function convertToInteractive(key) {\n",
              "          const element = document.querySelector('#df-f02c5295-5e94-4b3b-86b0-29be920d701f');\n",
              "          const dataTable =\n",
              "            await google.colab.kernel.invokeFunction('convertToInteractive',\n",
              "                                                     [key], {});\n",
              "          if (!dataTable) return;\n",
              "\n",
              "          const docLinkHtml = 'Like what you see? Visit the ' +\n",
              "            '<a target=\"_blank\" href=https://colab.research.google.com/notebooks/data_table.ipynb>data table notebook</a>'\n",
              "            + ' to learn more about interactive tables.';\n",
              "          element.innerHTML = '';\n",
              "          dataTable['output_type'] = 'display_data';\n",
              "          await google.colab.output.renderOutput(dataTable, element);\n",
              "          const docLink = document.createElement('div');\n",
              "          docLink.innerHTML = docLinkHtml;\n",
              "          element.appendChild(docLink);\n",
              "        }\n",
              "      </script>\n",
              "    </div>\n",
              "  </div>\n",
              "  "
            ]
          },
          "metadata": {},
          "execution_count": 65
        }
      ]
    }
  ]
}